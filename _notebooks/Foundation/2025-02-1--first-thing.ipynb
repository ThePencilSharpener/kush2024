{
 "cells": [
  {
   "cell_type": "raw",
   "metadata": {
    "vscode": {
     "languageId": "raw"
    }
   },
   "source": [
    "---\n",
    "layout: post\n",
    "title: Project feature Write Up + 5 things I did over 12 weeks\n",
    "type: issues \n",
    "comments: true\n",
    "---"
   ]
  },
  {
   "cell_type": "markdown",
   "metadata": {},
   "source": [
    "<h1>Feature Blog write up</h1>\n",
    "<p>Purpose: The purpose of my individual feature was to create a page where people can post facts about those they look up to, and after how long that fact will become a reality about them. This is so that people can set expectations on themselves similar to how the people they look up too once did. With these expectations now written out and saved online, they can now achieve this, all while continuously updating the amount of time it would take for them to achieve that goal. An example of this would be: Lionel Messi's first club was FC Barcelona located in Barcelona, Spain. Time it will take for me to play for FC Barcelona: 5 years. I will continuously update the time it will take for me to get there as certain events happen. An example of these certain events would be, a scout has taken interest in me: 2 years till I play at Barcelona. I am playing for team USA U19: 6 months till I play at Barcelona.</p>\n",
    "<br>\n",
    "<p>The CoolFact feature was designed to help people lacking in motivation to set expectations upon themselves. As they do the research about the fact of the person they look up too, they will start to understand that the road to success is not easy and that they will struggle for many years before they achieve their goal. This will show them that they are not alone and can achieve their goals.</p>"
   ]
  },
  {
   "cell_type": "markdown",
   "metadata": {},
   "source": [
    "**5 Things I did over 12 weeks**\n",
    "\n",
    "1. **Coolfacts Backend and other functions**\n",
    "* Create datable called coolfacts with 3 channels: id, coolfacts, age\n",
    "* Coolfact CRUD operations\n",
    "* Create(POST): Allows users to create new coolfacts by having them input a coolfact and age. The data is validated so that you must be logged in and have filled out all the required fields to create a new coolfact and age object to be stored in the database.\n",
    "* Read(GET): Retrieves and returns all coolfacts stored in the database as a list of dictionaries. Each coolfact and age coming from the database is converted into JSON dictionaries for the computer to understand.\n",
    "* Update(PUT): Allows updating an existing coolfact and age by clicking the update button next to the coolfact and age. All changes are saved to the database\n",
    "* Delete(DELETE): Allows a user to delete a coolfact and age based on it's id. Both the coolfact and age is deleted from the database.\n",
    "\n",
    "2. **CoolFacts Frontend**\n",
    "* Matched CSS styling with other group mates\n",
    "* Must be logged in to see data or change data in any way\n",
    "* Made Update and Delete buttons next to actual data for easy understanding of what data is changing\n",
    "* Created fetch functions to send JSON requests to backend to display on frontend\n",
    "\n",
    "3. **Collaboration with other groupmates**\n",
    "* We collaborated together to solve various errors in each others features using debugging methods such as using print statements and breakpoints to test what was happening\n",
    "* We made sure each others frontend styling were similar to each others\n",
    "* Each other's feature relates to the overall theme of the project and relates to each other as well\n",
    "\n",
    "\n",
    "4. **Deployment Testing**\n",
    "* Test on deployed site whether feature works\n",
    "* Test on cockpit terminal whether init, restore, and backup functions operate as necessary\n",
    "* Check SQLite data tables whether data is being added, updated, and removed correctly using correct sqlite commands\n",
    "* Learn how to rebuild properly using the proper docker-compose command\n",
    "* Changing port numbers and files to work on deployment\n",
    "\n",
    "5. **Init, Backup, Restore**\n",
    "* Restore, Backup, and Init: Add init, backup, and restore functions to each feature(done by adding each feature to each function in main so all of them get run at once instead of one at a time)\n",
    "* Add each API to main.py and functions within it\n",
    "* Learn how to run an debug init, backup, and restore functions\n",
    "* Load data from files: Write a function to get data from files in the backup folder"
   ]
  },
  {
   "cell_type": "markdown",
   "metadata": {},
   "source": [
    "**CPT Requirements**\n",
    "\n",
    "**Big Idea 1.1 & 1.2 Collaboration, Program Function, and Purpose:**\n",
    "\n",
    "**Iteration, SCRUM, Agile, Issues, Kanban** – Applied agile methodologies to efficiently manage project tasks and track progress. Utilized Kanban boards to organize issues and iterations, creating burndown lists to monitor completion.\n",
    "\n",
    "**Big Idea 1.3 Program Design and Development:**\n",
    "Frontend and Backend Integration – Focused on creating a user-friendly and visually engaging frontend to enhance the overall user experience.\n",
    "\n",
    "**Big Idea 1.3 Program Design and Development:**\n",
    "Design Documentation – Used diagramming tools such as draw.io to create flowcharts and UML diagrams, ensuring clear and structured design documentation.\n",
    "\n",
    "**Big Idea 1.4 Debugging Code and Fixing Errors:**\n",
    "Backend Debugging & Testing – Conducted thorough backend testing using Postman to verify the functionality and stability of implemented features.\n",
    "\n",
    "**Big Idea 2 Data:**\n",
    "Database Management with SQLite – Designed and managed SQLite databases to store essential user data, including posts and images. Developed efficient schemas to optimize data handling for social media functionality.\n",
    "\n",
    "**Data Backup and Recovery** – Implemented backup strategies to safeguard data and established recovery procedures to restore lost or corrupted information.\n",
    "\n",
    "**Big Idea 4 Internet:**\n",
    "Authentication and Security – Integrated authentication mechanisms such as JWT to enhance application security and protect user data.\n",
    "\n",
    "**HTTP and RESTful APIs** – Developed RESTful APIs using HTTP methods (GET, POST, PUT, DELETE) to facilitate seamless communication between the frontend and backend.\n",
    "\n",
    "\n",
    "\n",
    "\n",
    "\n",
    "\n",
    "\n"
   ]
  }
 ],
 "metadata": {
  "kernelspec": {
   "display_name": "venv",
   "language": "python",
   "name": "python3"
  },
  "language_info": {
   "codemirror_mode": {
    "name": "ipython",
    "version": 3
   },
   "file_extension": ".py",
   "mimetype": "text/x-python",
   "name": "python",
   "nbconvert_exporter": "python",
   "pygments_lexer": "ipython3",
   "version": "3.10.12"
  }
 },
 "nbformat": 4,
 "nbformat_minor": 2
}
