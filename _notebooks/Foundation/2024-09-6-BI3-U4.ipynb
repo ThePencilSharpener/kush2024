{
 "cells": [
  {
   "cell_type": "raw",
   "id": "a4c123f7",
   "metadata": {
    "vscode": {
     "languageId": "raw"
    }
   },
   "source": [
    "---\n",
    "layout: post\n",
    "title: Big Idea 3 Unit 4\n",
    "permalink: /BI3-U4/\n",
    "type: issues \n",
    "---"
   ]
  },
  {
   "cell_type": "markdown",
   "id": "267ce37f",
   "metadata": {},
   "source": [
    "# Big Idea 3 Unit 4  \n",
    "*Oct 11, 2024 • 3 min read*\n",
    "\n",
    "---\n",
    "\n",
    "## Overview  \n",
    "This unit focused on working with strings and string functions in both Python and JavaScript.\n",
    "\n",
    "---\n",
    "\n",
    "## String Methods in Python\n",
    "\n",
    "- `upper()`: Converts all characters in the string to uppercase.\n",
    "- `lower()`: Converts all characters in the string to lowercase.\n",
    "- `capitalize()`: Capitalizes only the first character.\n",
    "- `replace()`: Substitutes one substring with another.\n",
    "- `split()`: Breaks a string into a list of substrings based on a delimiter.\n",
    "- `join()`: Combines a list of strings into one string with a specified separator.\n",
    "- `isnumeric()`: Returns `True` if all characters are digits.\n",
    "\n",
    "### Useful Functions:\n",
    "\n",
    "- `len()`: Returns the number of characters in a string.\n",
    "- `str()`: Converts any value to a string.\n",
    "- **f-strings**: Format strings with embedded expressions using curly braces `{}`.\n",
    "- `find()`: Finds the lowest index where a substring appears, or -1 if not found.\n",
    "\n",
    "---\n",
    "\n",
    "## String Operations in JavaScript\n",
    "\n",
    "- **Concatenation**: Combine strings using the `+` operator.\n",
    "- **Substring**: Extract smaller parts from a string.\n",
    "- **length**: Get the number of characters in a string.\n",
    "\n",
    "---\n",
    "\n",
    "## Python Examples\n",
    "\n",
    "```python\n",
    "name_length = len(\"Kharia\")\n",
    "print(name_length)\n",
    "\n",
    "full_name = \"Kush \" + \"Kharia\"\n",
    "print(full_name)  \n",
    "substring = full_name[2:6]\n",
    "print(substring)  \n"
   ]
  },
  {
   "cell_type": "code",
   "execution_count": null,
   "id": "9191c26f",
   "metadata": {},
   "outputs": [],
   "source": [
    "def character_count(input_string):\n",
    "    letters = 0\n",
    "    numbers = 0\n",
    "    spaces = 0\n",
    "\n",
    "    for char in input_string:\n",
    "        if char.isalpha():\n",
    "            letters += 1\n",
    "        elif char.isdigit():\n",
    "            numbers += 1\n",
    "        elif char.isspace():\n",
    "            spaces += 1\n",
    "\n",
    "    return letters, numbers, spaces\n",
    "\n",
    "# Get input from the user\n",
    "user_input = input(\"Enter a string: \")\n",
    "letters, numbers, spaces = character_count(user_input)\n",
    "\n",
    "print(f\"Total letters: {letters}\")\n",
    "print(f\"Total numbers: {numbers}\")\n",
    "print(f\"Total spaces: {spaces}\")\n"
   ]
  },
  {
   "cell_type": "code",
   "execution_count": null,
   "id": "29c09526",
   "metadata": {
    "vscode": {
     "languageId": "javascript"
    }
   },
   "outputs": [],
   "source": [
    "// Length of a string\n",
    "let lastName = \"Kandula\";\n",
    "console.log(lastName.length); // Output: 7\n",
    "\n",
    "// Concatenate first and last names\n",
    "let fullName = \"Soumini \" + \"Kandula\";\n",
    "console.log(fullName); // Output: Soumini Kandula\n",
    "\n",
    "// Extract substring (characters 2 to 8)\n",
    "let substring = fullName.substring(1, 8);\n",
    "console.log(substring); // Output: oumini K\n"
   ]
  },
  {
   "cell_type": "code",
   "execution_count": null,
   "id": "ac4beda5",
   "metadata": {
    "vscode": {
     "languageId": "javascript"
    }
   },
   "outputs": [],
   "source": [
    "function characterCount(inputString) {\n",
    "    let letters = 0;\n",
    "    let numbers = 0;\n",
    "    let spaces = 0;\n",
    "\n",
    "    for (let char of inputString) {\n",
    "        if (/[a-zA-Z]/.test(char)) {\n",
    "            letters++;\n",
    "        } else if (/[0-9]/.test(char)) {\n",
    "            numbers++;\n",
    "        } else if (char === ' ') {\n",
    "            spaces++;\n",
    "        }\n",
    "    }\n",
    "    return [letters, numbers, spaces];\n",
    "}\n",
    "\n",
    "const userInput = prompt(\"Enter a string:\");\n",
    "const [letters, numbers, spaces] = characterCount(userInput);\n",
    "\n",
    "console.log(`Total letters: ${letters}`);\n",
    "console.log(`Total numbers: ${numbers}`);\n",
    "console.log(`Total spaces: ${spaces}`);\n"
   ]
  }
 ],
 "metadata": {
  "language_info": {
   "name": "python"
  }
 },
 "nbformat": 4,
 "nbformat_minor": 5
}
