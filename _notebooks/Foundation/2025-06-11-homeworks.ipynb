{
 "cells": [
  {
   "cell_type": "raw",
   "id": "574ff5df",
   "metadata": {
    "vscode": {
     "languageId": "raw"
    }
   },
   "source": [
    "---\n",
    "layout: post\n",
    "title: Certification\n",
    "permalink: /certification/\n",
    "type: issues \n",
    "---"
   ]
  },
  {
   "cell_type": "markdown",
   "id": "2238f584",
   "metadata": {},
   "source": [
    "# Certification of Homework Success"
   ]
  },
  {
   "cell_type": "markdown",
   "id": "6a2efa2c",
   "metadata": {},
   "source": [
    "Throughout the year, I earned multiple credentials that demonstrate my steady progress in AP CSP and my development as a computer science student. These recognitions highlight both my technical proficiency and my ability to apply concepts creatively."
   ]
  },
  {
   "cell_type": "markdown",
   "id": "57b3b42c",
   "metadata": {},
   "source": [
    "| Credential Type | Title                         | 📈 Relevance                                                                 |\n",
    "|------------------|-------------------------------|------------------------------------------------------------------------------|\n",
    "| Certificate      | API + Static Data             | Showcased skills in pulling and integrating data from APIs into dynamic UIs. |\n",
    "| Certificate      | Database + Deployment         | Applied backend logic and full-stack deployment techniques using Flask.      |\n",
    "| Certificate      | Web Security + Domain         | Implemented HTTPS, custom domains, and security practices for live projects. |\n",
    "| Certificate      | JavaScript + Python           | Strengthened fluency in key programming languages used across web dev tasks. |\n",
    "| NFT              | Machine Learning Integration  | Highlighted innovative use of ML to enhance user interaction in a web game.  |\n",
    "| Portfolio        | LinkedIn Account              | Created a polished, professional presence to showcase skills and connect.    |\n"
   ]
  },
  {
   "cell_type": "markdown",
   "id": "1efb7a23",
   "metadata": {},
   "source": [
    "Each certificate represents more than just technical achievement—it highlights my ability to apply skills in impactful ways, especially through cross-disciplinary projects like Striverr and collaborative work using tools like GitHub."
   ]
  },
  {
   "cell_type": "markdown",
   "id": "eac24548",
   "metadata": {},
   "source": [
    "## Links to each Homework"
   ]
  },
  {
   "cell_type": "markdown",
   "id": "b7310ff9",
   "metadata": {},
   "source": [
    "| Lesson Title | Homework Link |\n",
    "|--------------|----------------|\n",
    "| Base 64 | https://github.com/ThePencilSharpener/kush2024/issues/14 |\n",
    "| Binary Base | https://github.com/ThePencilSharpener/kush2024/issues/17 |\n",
    "| Logic Gates | https://github.com/ThePencilSharpener/kush2024/issues/15 |\n",
    "| Undecidable and Decidable Problems in Computer Science & Graphs/Heuristics | https://github.com/ThePencilSharpener/kush2024/issues/16 |\n",
    "| Random Algorithms and Simulation Games Team Teach | https://github.com/ThePencilSharpener/kush2024/issues/18 |\n",
    "| Lists and Filtering Algorithms | https://thepencilsharpener.github.io/kush2024/list-filtering-homework/ |\n",
    "| Safe Computing | https://github.com/ThePencilSharpener/kush2024/issues/12 |\n",
    "| Computing Bias | https://github.com/ThePencilSharpener/kush2024/issues/10 |\n",
    "| Crowdsourcing in Computing | https://github.com/ThePencilSharpener/kush2024/issues/19 |\n",
    "| Digital Divide | https://thepencilsharpener.github.io/kush2024/2025/03/28/digital-divide_hwork_IPYNB_2_.html |\n",
    "| Beneficial and Harmful Effects of Computing | *See screenshot in blog (image embed)* |\n",
    "| Big Idea 3 - Unit 1: Variables and Assignments | https://thepencilsharpener.github.io/kush2024/BI3-U1/ |\n",
    "| Big Idea 3 - Unit 2: Data Types and Input | https://thepencilsharpener.github.io/kush2024/BI3-U2/ |\n",
    "| Big Idea 3 - Unit 3: Mathematical Operators | https://thepencilsharpener.github.io/kush2024/BI3-U3/ |\n",
    "| Big Idea 3 - Unit 4: Strings and Functions | https://thepencilsharpener.github.io/kush2024/BI3-U4/ |\n",
    "| Big Idea 3 - Unit 5: Relational & Logical Operators | https://thepencilsharpener.github.io/kush2024/BI3-U5/ |\n",
    "| Big Idea 3 - Unit 6: Nested Conditionals | https://thepencilsharpener.github.io/kush2024/BI3-U6/ |\n",
    "| Big Idea 3 - Unit 10: Lists | https://thepencilsharpener.github.io/kush2024/BI3-U10/ |"
   ]
  },
  {
   "cell_type": "markdown",
   "id": "ab26fb50",
   "metadata": {},
   "source": [
    "Over the year, I collaborated on team projects through GitHub, contributing regularly via commits, issues, and pull requests. My involvement spanned both frontend and backend development, showing a balanced and consistent role in the workflow."
   ]
  },
  {
   "cell_type": "markdown",
   "id": "a77ff523",
   "metadata": {},
   "source": [
    "<img src=\"{{site.baseurl}}/images/aadi.png\" alt=\"Linkdin\" style=\"width:50%; max-width:400px; border-radius: 12px;\"/>"
   ]
  },
  {
   "cell_type": "markdown",
   "id": "71a432d9",
   "metadata": {},
   "source": [
    "### Commits\n",
    "My GitHub activity shows regular and meaningful contributions across multiple areas of our codebase:"
   ]
  },
  {
   "cell_type": "markdown",
   "id": "265b0693",
   "metadata": {},
   "source": [
    "<img src=\"{{site.baseurl}}/images/commiting.png\" alt=\"Linkdin\" style=\"width:50%; max-width:400px; border-radius: 12px;\"/>"
   ]
  }
 ],
 "metadata": {
  "language_info": {
   "name": "python"
  }
 },
 "nbformat": 4,
 "nbformat_minor": 5
}
