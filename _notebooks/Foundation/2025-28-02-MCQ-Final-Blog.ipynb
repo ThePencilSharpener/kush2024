{
 "cells": [
  {
   "cell_type": "raw",
   "id": "25330103",
   "metadata": {
    "vscode": {
     "languageId": "raw"
    }
   },
   "source": [
    "---\n",
    "layout: post\n",
    "title: MCQ College Board\n",
    "description: MCQ college board\n",
    "type: issues \n",
    "comments: true\n",
    "---"
   ]
  },
  {
   "cell_type": "markdown",
   "id": "8b48f602",
   "metadata": {},
   "source": [
    "<h1>Final MCQ Blog</h1>"
   ]
  },
  {
   "cell_type": "markdown",
   "id": "a3e036e4",
   "metadata": {},
   "source": [
    "<p>Questions that I got wrong</p>\n",
    "<p>Question 15, Question 37, Question 39, Question 41, Question 44, Question 47, Question 50, Question 56, Question 58, Question 66, Question 67</p>"
   ]
  },
  {
   "cell_type": "markdown",
   "id": "0a2e8ad8",
   "metadata": {},
   "source": [
    "<h4>Q15:</h4>\n",
    "<img src=\"{{site.baseurl}}/images/IMG_2723.jpg\" alt=\"Q15\" style=\"width:50%\"/>\n",
    "<p></p>"
   ]
  }
 ],
 "metadata": {
  "kernelspec": {
   "display_name": "Python 3 (ipykernel)",
   "language": "python",
   "name": "python3"
  },
  "language_info": {
   "codemirror_mode": {
    "name": "ipython",
    "version": 3
   },
   "file_extension": ".py",
   "mimetype": "text/x-python",
   "name": "python",
   "nbconvert_exporter": "python",
   "pygments_lexer": "ipython3",
   "version": "3.10.12"
  }
 },
 "nbformat": 4,
 "nbformat_minor": 5
}
