{
 "cells": [
  {
   "cell_type": "raw",
   "id": "e5467304",
   "metadata": {
    "vscode": {
     "languageId": "raw"
    }
   },
   "source": [
    "---\n",
    "layout: post\n",
    "title: Big Idea 3 Unit 5\n",
    "permalink: /BI3-U5/\n",
    "type: issues \n",
    "---"
   ]
  },
  {
   "cell_type": "markdown",
   "id": "7957fce8",
   "metadata": {},
   "source": [
    "# Big Idea 3 Unit 5  \n",
    "*Oct 11, 2024 • 1 min read*\n",
    "\n",
    "---\n",
    "\n",
    "## Summary  \n",
    "Our group also led this lesson, which covered two important topics:\n",
    "\n",
    "### Relational Operators  \n",
    "These operators compare two values and return a Boolean result (`True` or `False`):\n",
    "\n",
    "| Operator | Meaning                  | Example        |\n",
    "|----------|--------------------------|----------------|\n",
    "| `==`     | Equal to                 | `x == y`       |\n",
    "| `!=`     | Not equal to             | `x != y`       |\n",
    "| `>`      | Greater than             | `x > y`        |\n",
    "| `<`      | Less than                | `x < y`        |\n",
    "| `>=`     | Greater than or equal to | `x >= y`       |\n",
    "| `<=`     | Less than or equal to    | `x <= y`       |\n",
    "\n",
    "---\n",
    "\n",
    "### Logical Operators  \n",
    "These combine multiple conditions and return a single Boolean value:\n",
    "\n",
    "| Operator | Meaning                                          | Result Example                         |\n",
    "|----------|-------------------------------------------------|--------------------------------------|\n",
    "| `AND` (`&&` or `and`)  | Returns `True` only if **both** conditions are true. Otherwise, `False`. | `(True AND False) => False`           |\n",
    "| `OR` (`||` or `or`)    | Returns `True` if **at least one** condition is true. Otherwise, `False`. | `(True OR False) => True`              |\n",
    "| `NOT` (`!` or `not`)   | Returns the opposite of the condition’s Boolean value. | `NOT True => False`                    |\n",
    "\n",
    "---\n",
    "\n",
    "<a href=\"https://nighthawkcoders.github.io/portfolio_2025/csp/big-idea/p5/3-5-1\">Click here to view our page</a>\n",
    "\n"
   ]
  }
 ],
 "metadata": {
  "language_info": {
   "name": "python"
  }
 },
 "nbformat": 4,
 "nbformat_minor": 5
}
