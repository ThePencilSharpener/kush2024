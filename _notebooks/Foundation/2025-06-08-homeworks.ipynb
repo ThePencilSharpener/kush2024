{
 "cells": [
  {
   "cell_type": "raw",
   "id": "f37cf624",
   "metadata": {
    "vscode": {
     "languageId": "raw"
    }
   },
   "source": [
    "---\n",
    "layout: post\n",
    "title: Certification of Homework\n",
    "permalink: /homeworks/\n",
    "type: issues \n",
    "---"
   ]
  },
  {
   "cell_type": "markdown",
   "id": "2eb55e4b",
   "metadata": {},
   "source": [
    "## Homework and Lessons\n",
    "\n",
    "| Lesson Title | Homework Link |\n",
    "|--------------|----------------|\n",
    "| Base 64 | https://github.com/ThePencilSharpener/kush2024/issues/14 |\n",
    "| Binary Base | https://github.com/ThePencilSharpener/kush2024/issues/17 |\n",
    "| Logic Gates | https://github.com/ThePencilSharpener/kush2024/issues/15 |\n",
    "| Undecidable and Decidable Problems in Computer Science & Graphs/Heuristics | https://github.com/ThePencilSharpener/kush2024/issues/16 |\n",
    "| Random Algorithms and Simulation Games Team Teach | https://github.com/ThePencilSharpener/kush2024/issues/18 |\n",
    "| Lists and Filtering Algorithms | https://thepencilsharpener.github.io/kush2024/list-filtering-homework/ |\n",
    "| Safe Computing | https://github.com/ThePencilSharpener/kush2024/issues/12 |\n",
    "| Computing Bias | https://github.com/ThePencilSharpener/kush2024/issues/10 |\n",
    "| Crowdsourcing in Computing | https://github.com/ThePencilSharpener/kush2024/issues/19 |\n",
    "| Digital Divide | https://thepencilsharpener.github.io/kush2024/2025/03/28/digital-divide_hwork_IPYNB_2_.html |\n",
    "| Beneficial and Harmful Effects of Computing | *See screenshot in blog (image embed)* |\n"
   ]
  },
  {
   "cell_type": "markdown",
   "id": "746d398f",
   "metadata": {},
   "source": [
    "### 📚 Homework and Lessons\n",
    "\n",
    "| Lesson Title | Homework Link |\n",
    "|--------------|----------------|\n",
    "|              |                |\n",
    "|              |                |\n",
    "|              |                |\n",
    "|              |                |\n",
    "|              |                |\n",
    "|              |                |\n",
    "|              |                |\n",
    "|              |                |\n",
    "|              |                |\n",
    "|              |                |\n",
    "|              |                |\n",
    "|              |                |\n",
    "|              |                |\n",
    "|              |                |\n",
    "|              |                |\n",
    "|              |                |\n",
    "|              |                |\n",
    "|              |                |\n",
    "|              |                |\n",
    "|              |                |\n",
    "|              |                |\n",
    "|              |                |\n",
    "|              |                |\n",
    "|              |                |\n",
    "|              |                |\n",
    "|              |                |\n",
    "|              |                |\n",
    "|              |                |\n",
    "|              |                |\n",
    "|              |                |\n",
    "|              |                |\n",
    "|              |                |\n",
    "|              |                |\n",
    "|              |                |\n"
   ]
  }
 ],
 "metadata": {
  "language_info": {
   "name": "python"
  }
 },
 "nbformat": 4,
 "nbformat_minor": 5
}
