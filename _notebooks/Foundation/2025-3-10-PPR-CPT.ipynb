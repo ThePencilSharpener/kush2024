{
 "cells": [
  {
   "cell_type": "raw",
   "metadata": {
    "vscode": {
     "languageId": "raw"
    }
   },
   "source": [
    "---\n",
    "layout: post\n",
    "title: PPR/CPT Blog\n",
    "type: issues \n",
    "comments: true\n",
    "---"
   ]
  },
  {
   "cell_type": "markdown",
   "metadata": {},
   "source": [
    "\n",
    "## CPT Requirements\n",
    "\n",
    "| Requirement       | Input from User | Use of at least 1 list (or other collection type) | Procedure | Algorithm with sequencing, selection, and iteration | Call to procedure | Instructions for output |\n",
    "| ----------------- | -------------- | ----------------------------------------------- | ---------- | --------------------------------------------------- | ---------------- | --------------------- |\n",
    "| Coolfacts feature | Y              | Y                                             | Y          | Y                                                 | Y                | Y                     |\n"
   ]
  },
  {
   "cell_type": "markdown",
   "metadata": {},
   "source": [
    "**Input from user**"
   ]
  },
  {
   "cell_type": "code",
   "execution_count": null,
   "metadata": {},
   "outputs": [],
   "source": [
    "<input type=\"text\" id=\"new-fact-text\" placeholder=\"Enter cool fact\" />\n",
    "<button id=\"add-fact-btn\">Add Cool Fact</button>"
   ]
  },
  {
   "cell_type": "code",
   "execution_count": null,
   "metadata": {},
   "outputs": [],
   "source": [
    "async function addCoolFact() {\n",
    "    const age = document.getElementById('new-fact-age').value;\n",
    "    const coolfacts = document.getElementById('new-fact-text').value;\n",
    "    try {\n",
    "        const response = await fetch(`${pythonURI}/api/coolfacts`, {\n",
    "            ...fetchOptions,\n",
    "            method: 'POST',\n",
    "            headers: {\n",
    "                'Content-Type': 'application/json'\n",
    "            },\n",
    "            body: JSON.stringify({ age, coolfacts })\n",
    "        });\n",
    "        if (!response.ok) {\n",
    "            throw new Error('Failed to add cool fact: ' + response.statusText);\n",
    "        }\n",
    "        alert('Cool fact added successfully!');\n",
    "        document.getElementById('new-fact-age').value = ''; // Clear input\n",
    "        document.getElementById('new-fact-text').value = ''; // Clear input\n",
    "        fetchCoolFacts(); // Refresh cool facts list\n",
    "    } catch (error) {\n",
    "        console.error('Error adding cool fact:', error);\n",
    "        alert('Error adding cool fact: ' + error.message);\n",
    "    }\n",
    "}"
   ]
  },
  {
   "cell_type": "markdown",
   "metadata": {},
   "source": [
    "**Use of at least 1 list or other collection type**"
   ]
  },
  {
   "cell_type": "code",
   "execution_count": null,
   "metadata": {},
   "outputs": [],
   "source": [
    "def initCoolFacts():\n",
    "    \"\"\"\n",
    "    Initializes the QuizCreation table and inserts test data for development purposes.\n",
    "    \"\"\"\n",
    "    with app.app_context():\n",
    "        db.create_all()  # Create the database and tables\n",
    "        # Sample test data\n",
    "        quizzes = [\n",
    "            CoolFacts(coolfacts=\"Elon Musk saved Tesla from bankruptcy\", age=\"37\"),\n",
    "            CoolFacts(coolfacts=\"Messi moved to Barcelona, Spain to play soccer and recieve proper medical treatment\", age=\"13\"),\n",
    "            CoolFacts(coolfacts=\"Lebron James was scouted by the Cleveland Cavaliers and played his first NBA game there\", age=\"18\")\n",
    "        ]\n",
    "        for quiz in quizzes:\n",
    "            try:\n",
    "                quiz.create()\n",
    "                print(f\"Created quiz: {repr(quiz)}\")\n",
    "            except IntegrityError as e:\n",
    "                db.session.rollback()\n",
    "                print(f\"Record already exists or error occurred: {str(e)}\")"
   ]
  },
  {
   "cell_type": "markdown",
   "metadata": {},
   "source": [
    "**Procedure**"
   ]
  },
  {
   "cell_type": "code",
   "execution_count": null,
   "metadata": {},
   "outputs": [],
   "source": [
    "@staticmethod\n",
    "    def restore(data):\n",
    "        with app.app_context():\n",
    "            db.session.query(CoolFacts).delete()\n",
    "            db.session.commit()\n",
    "\n",
    "            restored_facts = {}\n",
    "            for fact_data in data:\n",
    "                fact = CoolFacts(\n",
    "                    coolfacts=fact_data['coolfacts'],\n",
    "                    age=fact_data['age']\n",
    "                )\n",
    "                fact.create()\n",
    "                restored_facts[fact_data['id']] = fact\n",
    "\n",
    "            return restored_facts"
   ]
  },
  {
   "cell_type": "markdown",
   "metadata": {},
   "source": [
    "**Algorithm with sequencing, selection, and iteration**"
   ]
  },
  {
   "cell_type": "code",
   "execution_count": null,
   "metadata": {},
   "outputs": [],
   "source": [
    "def restore(data):\n",
    "        with app.app_context():\n",
    "            db.session.query(CoolFacts).delete()\n",
    "            db.session.commit()\n",
    "\n",
    "            restored_facts = {}\n",
    "            for fact_data in data:\n",
    "                fact = CoolFacts(\n",
    "                    coolfacts=fact_data['coolfacts'],\n",
    "                    age=fact_data['age']\n",
    "                )\n",
    "                fact.create()\n",
    "                restored_facts[fact_data['id']] = fact\n",
    "\n",
    "            return restored_facts"
   ]
  },
  {
   "cell_type": "markdown",
   "metadata": {},
   "source": [
    "**Call to procedure**"
   ]
  },
  {
   "cell_type": "code",
   "execution_count": null,
   "metadata": {},
   "outputs": [],
   "source": [
    "def restore_data(data):\n",
    "    with app.app_context():\n",
    "        users = User.restore(data['users'])\n",
    "        _ = CoolFacts.restore(data['coolfacts'])\n",
    "        _ = Section.restore(data['sections'])\n",
    "        _ = Group.restore(data['groups'], users)\n",
    "        _ = Channel.restore(data['channels'])\n",
    "#        _ = Post.restore(data['posts'])\n",
    "        _ = Hobby.restore(data['hobbies'])\n",
    "        _ = Steps.restore(data['steps'])\n",
    "        _ = Quote.restore(data['quotes'])\n",
    "        _ = BucketList.restore(data['bucketlists'])\n",
    "        _ = StriverGoals.restore(data['strivergoals'])\n",
    "    print(\"Data restored to the new database.\")"
   ]
  },
  {
   "cell_type": "markdown",
   "metadata": {},
   "source": [
    "**Instruction for output**"
   ]
  },
  {
   "cell_type": "code",
   "execution_count": null,
   "metadata": {},
   "outputs": [],
   "source": [
    "const updateButton = document.createElement('button');\n",
    "            updateButton.textContent = 'Update';\n",
    "            updateButton.style.marginLeft = '10px';\n",
    "            updateButton.style.padding = '2px 5px';\n",
    "            updateButton.onclick = () => promptUpdateCoolFact(fact.id, fact.age, fact.coolfacts);"
   ]
  },
  {
   "cell_type": "code",
   "execution_count": null,
   "metadata": {},
   "outputs": [],
   "source": [
    "const data = await response.json();\n",
    "        const coolFactsList = document.getElementById('coolfacts-list');\n",
    "        coolFactsList.innerHTML = \"\";\n",
    "        data.forEach(fact => {\n",
    "            const listItem = document.createElement('li');\n",
    "            listItem.style.display = 'flex';\n",
    "            listItem.style.alignItems = 'center';\n",
    "            listItem.style.justifyContent = 'space-between';\n",
    "            const factText = document.createElement('span');\n",
    "            factText.textContent = `${fact.age}: ${fact.coolfacts}`;\n",
    "            const updateButton = document.createElement('button');\n",
    "            updateButton.textContent = 'Update';\n",
    "            updateButton.style.marginLeft = '10px';\n",
    "            updateButton.style.padding = '2px 5px';\n",
    "            updateButton.onclick = () => promptUpdateCoolFact(fact.id, fact.age, fact.coolfacts);\n",
    "            const deleteButton = document.createElement('button');\n",
    "            deleteButton.textContent = 'Delete';\n",
    "            deleteButton.style.marginLeft = '10px';\n",
    "            deleteButton.style.padding = '2px 5px';\n",
    "            deleteButton.onclick = () => deleteCoolFact(fact.id);\n",
    "            listItem.appendChild(factText);\n",
    "            listItem.appendChild(updateButton);\n",
    "            listItem.appendChild(deleteButton);\n",
    "            coolFactsList.appendChild(listItem);"
   ]
  },
  {
   "cell_type": "code",
   "execution_count": null,
   "metadata": {},
   "outputs": [],
   "source": [
    "try {\n",
    "        const response = await fetch(`${pythonURI}/api/coolfacts`, {\n",
    "            ...fetchOptions,\n",
    "            method: 'POST',\n",
    "            headers: {\n",
    "                'Content-Type': 'application/json'\n",
    "            },\n",
    "            body: JSON.stringify({ age, coolfacts })\n",
    "        });\n",
    "        if (!response.ok) {\n",
    "            throw new Error('Failed to add cool fact: ' + response.statusText);\n",
    "        }"
   ]
  },
  {
   "cell_type": "markdown",
   "metadata": {},
   "source": [
    "**PPR Requirements**\n",
    "\n",
    "1. First Code segment\n",
    "* It defines the procedures name as restore\n",
    "* It has a parameter, data, that affects to purpose of the function\n",
    "* It has sequencing, selection, and iteration"
   ]
  },
  {
   "cell_type": "code",
   "execution_count": null,
   "metadata": {},
   "outputs": [],
   "source": [
    "@staticmethod\n",
    "    def restore(data):\n",
    "        with app.app_context():\n",
    "            db.session.query(CoolFacts).delete()\n",
    "            db.session.commit()\n",
    "\n",
    "            restored_facts = {}\n",
    "            for fact_data in data:\n",
    "                fact = CoolFacts(\n",
    "                    coolfacts=fact_data['coolfacts'],\n",
    "                    age=fact_data['age']\n",
    "                )\n",
    "                fact.create()\n",
    "                restored_facts[fact_data['id']] = fact\n",
    "\n",
    "            return restored_facts"
   ]
  },
  {
   "cell_type": "markdown",
   "metadata": {},
   "source": [
    "2. Second code segment\n",
    "* The above function is being called in another function below"
   ]
  },
  {
   "cell_type": "code",
   "execution_count": null,
   "metadata": {},
   "outputs": [],
   "source": [
    "def restore_data(data):\n",
    "    with app.app_context():\n",
    "        users = User.restore(data['users'])\n",
    "        _ = CoolFacts.restore(data['coolfacts'])\n",
    "        _ = Section.restore(data['sections'])\n",
    "        _ = Group.restore(data['groups'], users)\n",
    "        _ = Channel.restore(data['channels'])\n",
    "#        _ = Post.restore(data['posts'])\n",
    "        _ = Hobby.restore(data['hobbies'])\n",
    "        _ = Steps.restore(data['steps'])\n",
    "        _ = Quote.restore(data['quotes'])\n",
    "        _ = BucketList.restore(data['bucketlists'])\n",
    "        _ = StriverGoals.restore(data['strivergoals'])\n",
    "    print(\"Data restored to the new database.\")"
   ]
  },
  {
   "cell_type": "markdown",
   "metadata": {},
   "source": [
    "3. Third code segment\n",
    "* Static data to be stored in the database is created as a list"
   ]
  },
  {
   "cell_type": "code",
   "execution_count": null,
   "metadata": {},
   "outputs": [],
   "source": [
    "def initCoolFacts():\n",
    "    \"\"\"\n",
    "    Initializes the QuizCreation table and inserts test data for development purposes.\n",
    "    \"\"\"\n",
    "    with app.app_context():\n",
    "        db.create_all()  # Create the database and tables\n",
    "        # Sample test data\n",
    "        quizzes = [\n",
    "            CoolFacts(coolfacts=\"Elon Musk saved Tesla from bankruptcy\", age=\"37\"),\n",
    "            CoolFacts(coolfacts=\"Messi moved to Barcelona, Spain to play soccer and recieve proper medical treatment\", age=\"13\"),\n",
    "            CoolFacts(coolfacts=\"Lebron James was scouted by the Cleveland Cavaliers and played his first NBA game there\", age=\"18\")\n",
    "        ]\n",
    "        for quiz in quizzes:\n",
    "            try:\n",
    "                quiz.create()\n",
    "                print(f\"Created quiz: {repr(quiz)}\")\n",
    "            except IntegrityError as e:\n",
    "                db.session.rollback()\n",
    "                print(f\"Record already exists or error occurred: {str(e)}\")"
   ]
  },
  {
   "cell_type": "markdown",
   "metadata": {},
   "source": [
    "4. Fourth code segment\n",
    "* A function is made where the list data above is added to a function and that data will later be added into the database"
   ]
  },
  {
   "cell_type": "code",
   "execution_count": null,
   "metadata": {},
   "outputs": [],
   "source": [
    "def generate_data():\n",
    "    initGoals()\n",
    "    initCoolFacts()\n",
    "    initBucketlists()\n",
    "    initSteps()\n",
    "    initHobbies()\n",
    "    init_quotes()\n",
    "    initUsers()\n",
    "    initSections()\n",
    "    initGroups()\n",
    "    # initChannels()\n",
    "    initPosts()"
   ]
  },
  {
   "cell_type": "markdown",
   "metadata": {},
   "source": [
    "**CPT Requirements**\n",
    "\n",
    "**Big Idea 1.1 & 1.2 Collaboration, Program Function, and Purpose:**\n",
    "\n",
    "**Iteration, SCRUM, Agile, Issues, Kanban** – Applied agile methodologies to efficiently manage project tasks and track progress. Utilized Kanban boards to organize issues and iterations, creating burndown lists to monitor completion.\n",
    "\n",
    "**Big Idea 1.3 Program Design and Development:**\n",
    "Frontend and Backend Integration – Focused on creating a user-friendly and visually engaging frontend to enhance the overall user experience.\n",
    "\n",
    "**Big Idea 1.3 Program Design and Development:**\n",
    "Design Documentation – Used diagramming tools such as draw.io to create flowcharts and UML diagrams, ensuring clear and structured design documentation.\n",
    "\n",
    "**Big Idea 1.4 Debugging Code and Fixing Errors:**\n",
    "Backend Debugging & Testing – Conducted thorough backend testing using Postman to verify the functionality and stability of implemented features.\n",
    "\n",
    "**Big Idea 2 Data:**\n",
    "Database Management with SQLite – Designed and managed SQLite databases to store essential user data, including posts and images. Developed efficient schemas to optimize data handling for social media functionality.\n",
    "\n",
    "**Data Backup and Recovery** – Implemented backup strategies to safeguard data and established recovery procedures to restore lost or corrupted information.\n",
    "\n",
    "**Big Idea 4 Internet:**\n",
    "Authentication and Security – Integrated authentication mechanisms such as JWT to enhance application security and protect user data.\n",
    "\n",
    "**HTTP and RESTful APIs** – Developed RESTful APIs using HTTP methods (GET, POST, PUT, DELETE) to facilitate seamless communication between the frontend and backend."
   ]
  }
 ],
 "metadata": {
  "language_info": {
   "name": "python"
  }
 },
 "nbformat": 4,
 "nbformat_minor": 2
}
