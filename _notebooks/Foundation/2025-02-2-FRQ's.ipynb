{
 "cells": [
  {
   "cell_type": "raw",
   "metadata": {},
   "source": [
    "---\n",
    "layout: post\n",
    "title: FRQ Questions and Answers\n",
    "type: issues \n",
    "comments: true\n",
    "---"
   ]
  },
  {
   "cell_type": "code",
   "execution_count": null,
   "metadata": {},
   "outputs": [],
   "source": [
    "def restore(data):\n",
    "        with app.app_context():\n",
    "            db.session.query(CoolFacts).delete()\n",
    "            db.session.commit()\n",
    "\n",
    "            restored_facts = {}\n",
    "            for fact_data in data:\n",
    "                fact = CoolFacts(\n",
    "                    coolfacts=fact_data['coolfacts'],\n",
    "                    age=fact_data['age']\n",
    "                )\n",
    "                fact.create()\n",
    "                restored_facts[fact_data['id']] = fact\n",
    "\n",
    "            return restored_facts"
   ]
  },
  {
   "cell_type": "markdown",
   "metadata": {},
   "source": [
    "1. Defines the procedures name as restore with the return type defined as a dictionary. The parameter, data, acts as the input for the function. Sequences through data and finds the data that correspond to coolfact and age."
   ]
  },
  {
   "cell_type": "code",
   "execution_count": null,
   "metadata": {},
   "outputs": [],
   "source": [
    "def restore_data(data):\n",
    "    with app.app_context():\n",
    "        users = User.restore(data['users'])\n",
    "        _ = CoolFacts.restore(data['coolfacts'])\n",
    "        _ = Section.restore(data['sections'])\n",
    "        _ = Group.restore(data['groups'], users)\n",
    "        _ = Channel.restore(data['channels'])\n",
    "#        _ = Post.restore(data['posts'])\n",
    "        _ = Hobby.restore(data['hobbies'])\n",
    "        _ = Steps.restore(data['steps'])\n",
    "        _ = Quote.restore(data['quotes'])\n",
    "        _ = BucketList.restore(data['bucketlists'])\n",
    "        _ = StriverGoals.restore(data['strivergoals'])"
   ]
  },
  {
   "cell_type": "markdown",
   "metadata": {},
   "source": [
    "1. The restore function is being called in this other function where data from different tables are being called in as the data part of the restore function."
   ]
  },
  {
   "cell_type": "code",
   "execution_count": null,
   "metadata": {},
   "outputs": [],
   "source": [
    "def initCoolFacts():\n",
    "    \"\"\"\n",
    "    Initializes the QuizCreation table and inserts test data for development purposes.\n",
    "    \"\"\"\n",
    "    with app.app_context():\n",
    "        db.create_all()  # Create the database and tables\n",
    "        # Sample test data\n",
    "        quizzes = [\n",
    "            CoolFacts(coolfacts=\"Elon Musk saved Tesla from bankruptcy\", age=\"37\"),\n",
    "            CoolFacts(coolfacts=\"Messi moved to Barcelona, Spain to play soccer and recieve proper medical treatment\", age=\"13\"),\n",
    "            CoolFacts(coolfacts=\"Lebron James was scouted by the Cleveland Cavaliers and played his first NBA game there\", age=\"18\")\n",
    "        ]\n",
    "        for quiz in quizzes:\n",
    "            try:\n",
    "                quiz.create()\n",
    "                print(f\"Created quiz: {repr(quiz)}\")\n",
    "            except IntegrityError as e:\n",
    "                db.session.rollback()\n",
    "                print(f\"Record already exists or error occurred: {str(e)}\")"
   ]
  },
  {
   "cell_type": "markdown",
   "metadata": {},
   "source": [
    "1. Within the CoolFacts data table, I am storing actual facts in the coolfact category and an age in the age category."
   ]
  },
  {
   "cell_type": "code",
   "execution_count": null,
   "metadata": {},
   "outputs": [],
   "source": [
    "def generate_data():\n",
    "    initGoals()\n",
    "    initCoolFacts()"
   ]
  },
  {
   "cell_type": "markdown",
   "metadata": {},
   "source": [
    "1. Retrieves data from initCoolFacts and processes the list data by printing each coolfact and age."
   ]
  },
  {
   "cell_type": "markdown",
   "metadata": {},
   "source": [
    "1. Explain how I could have used feedback, testing, or reflection in the development of my program.\n",
    "I could have used User feedback from N@TM to add more purpose to my feature and have a more unique frontend. More feedback such as literally connecting my feature to my group-mates features and getting rid of alert's as the method for informing the user of their actions, could have been implemented into my code. I tested my CRUD operations using Postman to isolate the problem to either the fronted or backend code. I also used Postman to see what error message my code gives and what the problem is. I tested my feature locally first before deploying so if any errors occurred I could isolate the problem to a select few files or lines of code. I asked other group-mates what they thought of my feature and how to make it better and incorporated the input age based on their feedback. "
   ]
  },
  {
   "cell_type": "markdown",
   "metadata": {},
   "source": [
    "1. Describe the problem that your program was created to address or the creative expression ir pursues.\n",
    "The Coolfacts feature was developed in order for those lacking in motivation or needing that extra push could set unrealistic expectations with time constraints on themselves so that they could push themselves to be the best version of themselves they could be."
   ]
  }
 ],
 "metadata": {
  "language_info": {
   "name": "python"
  }
 },
 "nbformat": 4,
 "nbformat_minor": 2
}
