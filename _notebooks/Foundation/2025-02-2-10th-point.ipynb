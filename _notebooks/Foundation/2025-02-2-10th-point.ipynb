{
 "cells": [
  {
   "cell_type": "raw",
   "metadata": {
    "vscode": {
     "languageId": "raw"
    }
   },
   "source": [
    "---\n",
    "layout: post\n",
    "title: 10th point\n",
    "type: issues \n",
    "comments: true\n",
    "---"
   ]
  },
  {
   "cell_type": "markdown",
   "metadata": {},
   "source": [
    "**Reaching out and helping someone new to you to get Final Exam materials organized + Preliminary live review with this person**\n",
    "I talked with Gyutae Kim about how to get my Final Exam materials organized. Since both of our roles were Backend Engineer, we discussed what 5 things we could say as well as helping each other do the MCQ. We checked each other's blog for mistakes, poor explanations, and whether we satisfied all the requirements. We also practiced explaining our project, feature, MCQ, FRQ's, 5 things we did, and everything else to each other in preparation for the check."
   ]
  },
  {
   "cell_type": "markdown",
   "metadata": {
    "vscode": {
     "languageId": "raw"
    }
   },
   "source": [
    "**Thinking of what I will do next with Computer Science**\n",
    "* Explore Specializations: Identify which area of computer science excites me the most, such as AI, cybersecurity, software engineering, or data science.\n",
    "* Gain Real-World Experience: Look for internships to apply my skills in a professional setting.\n",
    "* Plan Your College Courses: Choose classes that align with my interests, like algorithms, databases, or machine learning.\n",
    "* Build Projects: Developing my own apps or websites helps me sharpen my coding skills and demonstrate initiative."
   ]
  },
  {
   "cell_type": "markdown",
   "metadata": {
    "vscode": {
     "languageId": "html"
    }
   },
   "source": [
    "**Honest Self-Grade Assessment:**\n",
    "\n",
    "| Topic | % of Grade | Points |\n",
    "|---|---|---|\n",
    "| **5 Things Over 12 Weeks / Issues, Burndown, Presentation** | 94% | 4.7/5 |\n",
    "| **Full Stack Project Demo** | 90% | 1.8/2 |\n",
    "| **Project Feature Blog Write-up** | 97.5% | 0.975/1 |\n",
    "| **MCQ** | 97.5% | 0.975/1 |\n",
    "| **10th point** | 85% | 0.85/1 |\n",
    "| **Total** | 93% | 9.3/10 |\n"
   ]
  },
  {
   "cell_type": "markdown",
   "metadata": {},
   "source": [
    "**Reasoning for self-grade**\n",
    "1. **5 things over 12 weeks, Burndown, Presentation**\n",
    "* **Grade: 4.7/5**\n",
    "* **Reasoning:** I successfully contributed to 5 major things across the project. The Kanban board, team collaboration, and stand-up meetings on the regular kept me on track and kept the vision for the project clear. However there have been a few instances over the past 12 weeks were my issues were not organized very well.\n",
    "\n",
    "2. **Full Stack Project Demo**\n",
    "* **Grade: 1.8/2**\n",
    "* **Reasoning**: We demonstrated our features effectively and showed how they tied together to meet the project's purpose. I actively participated in both presenting and troubleshooting. However our features could also literally take data from other features within the project.\n",
    "\n",
    "3. **Project Feature Blog Write-up**\n",
    "* **Grade: 0.975/1**\n",
    "* **Reasoning**: The write-up was done with the use of CPT/FRQ language. I used cause, reasoning, and fix-reflections to write it. I believe I lacked a little bit in technical detail in my write-up, but I think I can learn through the college board videos and reading the materials Mr. Mort provided us.\n",
    "\n",
    "4. **MCQ**\n",
    "* **Grade: 0.975/1**\n",
    "* **Reasoning**: The MCQ was a straightforward assignment, with lot's of questions about psuedocode and what a speific function will return. However I did not get all the questions correct; I got a 56/67 on the MCQ. I wrote a reflection and analyzed the top 5 topics I felt I did not understand and needed to prepare for before the actual AP exam.\n",
    "\n",
    "5. **10th point**\n",
    "* **Grade: 0.85/1**\n",
    "* **Reasoning:** I do not think that I impressed Mr. Mort too much with my feature and my blog write-ups. However I hope he recognizes the work me and my group put in to complete all the requirements and recommendations Mr. Mort gave us. I went to N@TM to present our project as well as show off my feature to other students of the class and their parents. I left many google reviews on different groups about the things I liked as well as things I feel like they can improve on, showing my interest in other projects. In addition I gave advice to Rutvik(table 1 CSP P5) on the game he made. I also worked closely with Gyutae Kim on preparing the materials for the Final Exam. We called together multiple times to discuss what we should put in our blogs, what the 5 things could be, what CPT/FRQ language is, and just helping each other in general.\n",
    "\n",
    "**Final reflection**\n",
    "* **Total: 9.3/10**\n",
    "* **Summary**: I think my performance across these topics has been good, especially in the collaboration areas. There is still room for improvement in terms of literally connecting my groupmates features. My and my team mates worked together hard to meet the requirements and recommendations and I feel like that can be somewhat seen through our project. I have asked my mother, who is a software engineer, for help multiple times throughout this trimester and she has always been very impressed with what we are doing in this class, from doing things such as a retrospective, or working in agile teams, or doing sprints. She tells me that this is what she does all the time in her job. I have found out the skills I am strong in and skills I am weak in. I will use these skills all throughout life and not just in trimester 3.\n",
    "\n",
    "\n",
    "\n",
    "\n",
    "\n",
    "\n",
    "**N@TM feedback**\n",
    "\n",
    "**Things people liked about our site:**\n",
    "\n",
    "<img width=\"511\" alt=\"Image\" src=\"https://github.com/user-attachments/assets/7f63303b-93ac-48bb-aa85-12f9ce568b7d\" />\n",
    "<img width=\"515\" alt=\"Image\" src=\"https://github.com/user-attachments/assets/9b662a60-432b-4508-8fee-1253d85976b8\" />\n",
    "\n",
    "\n",
    "**Things people recommended we change about our site:**\n",
    "\n",
    "<img width=\"515\" alt=\"Image\" src=\"https://github.com/user-attachments/assets/c616e4cf-14d4-4e3d-a196-764eb695c23e\" />\n",
    "\n",
    "**Things people said we could do to improve our presentation:**\n",
    "\n",
    "<img width=\"502\" alt=\"Image\" src=\"https://github.com/user-attachments/assets/ba7c8ddf-21ee-4bff-8cdc-55fa7a43a2c1\" />\n",
    "\n",
    "**Chart of N@TM experience:**\n",
    "\n",
    "<img width=\"514\" alt=\"Image\" src=\"https://github.com/user-attachments/assets/d749326e-a597-483f-9353-3c15da916c23\" />\n",
    "\n",
    "\n",
    "\n",
    "**Review of N@TM**\n",
    "\n",
    "1. Things I did well:\n",
    "* Talked in a clear and loud voice\n",
    "* Successfully answered all questions regarding my feature, the restore function, and the sqlite commands that happen in the cockpit terminal\n",
    "* Had similar CSS and HTML styling to other members of group, making us look like a genuine team with a plan\n",
    "\n",
    "2. Things I could have done better\n",
    "* I felt as if I was overbearing onto my peers a little bit, talking too much for too long resulting in my groupmates not being able to talk very much\n",
    "* Took too long to set up the google doc QR code for people to leave reviews\n",
    "* Stuttering\n",
    "\n",
    "-------------------------------------------------------------------------------------------------------------------------\n",
    "<img width=\"514\" alt=\"Image\" src=\"https://github.com/user-attachments/assets/f93ec6c7-3762-40b9-adad-bd548fa6a633\" />\n",
    "<img width=\"515\" alt=\"Image\" src=\"https://github.com/user-attachments/assets/7fb8ad72-c64f-4827-a143-2be8b2db504c\" />\n",
    "<img width=\"514\" alt=\"Image\" src=\"https://github.com/user-attachments/assets/ce40d33b-4782-4a64-9d5d-bc333cde1605\" />\n",
    "\n",
    "-------------------------------------------------------------------------------------------------------------------------\n",
    "\n",
    "\n",
    "\n",
    "**Reflection on individual strengths/weaknesses**\n",
    "1. Strengths\n",
    "* Collaboration: I collaborated with my group members so that our features all had similar HTML and CSS styling and I also collaborated with them by helping some of them finish their features.\n",
    "\n",
    "* Understanding of code: I have spent lot's of time going over the backend code in regards to coolfacts as well as the restore function(since that was giving us lots of problems) and I feel as if I have a solid understanding of the API code\n",
    "\n",
    "* Communication: My group and I had a group chat where we discussed various problems we had and how to solve them as well as going on calls after school to solve these problems. We also discussed heavily what everyone would present during N@TM.\n",
    "\n",
    "2. Weakness\n",
    "* Time management: I had poor time management and as a result I struggled with the deadlines for checks and often worked until the last minute to pass many of the checks\n",
    "\n",
    "* Not understanding CPT requirements properly: I didn't properly understand the CPT requirements properly so I was sometimes confused when making my blogs and issues\n",
    "\n",
    "* I often got distracted by other parts of code within the backend. I was trying to figure it all out, line by line, instead of trying to understand the overall picture, and that cause me to waste lots of time.\n",
    "\n",
    "\n",
    "\n",
    "**Reflection on project by creating next steps plans for strengths and weaknesses**\n",
    "1. Next steps for strengths:\n",
    "* Continue on team collaboration and communication by making the group a safe place to ask questions and promote conversation\n",
    "\n",
    "* Maintain my understanding of the code by spending time after school reviewing the code and connecting the dots of where everything goes even as the code gets harder and harder\n",
    "2. Next steps for weaknesses:\n",
    "* Time Management: Break whatever I was trying to finish for the day into smaller chunks and take short breaks inbetween so I don't burn myself out and waste a long time on a break\n",
    "* Not understanding CPT requirements properly: To overcome this I will watch the collegeboard videos in more depth and take notes to really understand what is needed from me\n",
    "* Distractions: Stay focused and on task by looking at the overall picture of what is happening and not getting worried about the small details.\n",
    "\n",
    "\n",
    "\n",
    "**Reflection on individual strengths/weaknesses regarding code.**\n",
    "\n",
    "1. Strengths:\n",
    "* Complete Full-Stack Integration  \n",
    "   Combines frontend (JavaScript, HTML), backend (Flask, Python), and database (SQLAlchemy).  \n",
    "   Implements JWT authentication to protect coolfact entries.\n",
    "\n",
    "* Comprehensive CRUD Operations  \n",
    "   Enables users to Create, Read, Update, and Delete (CRUD) their coolfact entries.  \n",
    "   Utilizes Fetch API for real-time updates.\n",
    "\n",
    "* Seamless JSON to DOM Handling  \n",
    "   Retrieves coolfact data from the backend in JSON format.  \n",
    "   Dynamically modifies the DOM to reflect coolfact updates.\n",
    "\n",
    "* Database Management & Restore  \n",
    "   Stores coolfact data persistently using SQLAlchemy.  \n",
    "   Includes a restore function to reset or backup coolfact data.\n",
    "\n",
    "2. Weaknesses:\n",
    "* No historical data tracking for the age\n",
    "   Doesn't provide the change in the amount of time inputted for the same coolfact\n",
    "\n",
    "* No charts or visual images to show age data\n",
    "   Lack of visual data to see change in amount of time it will take for you to achieve that coolfact\n",
    "\n",
    "* Lack of spellchecker\n",
    "   A spellchecker to check the spelling of the user is not implemented\n",
    "   Would help the user from misinterpreting what they were trying to say\n",
    "\n",
    "**Next Steps**\n",
    "1. I would like for users to be able to look at the previous ages that they had inputted and be able to compare their efficiency in achieving their goal. A visual representation of this would be most effective such as a bar graph or a line graph to show the rate at which they are achieving their goal. To achieve the chart, a function would have to be created so that only integers could be inputted for their age and a function to create and display a graph would have to be created. A spellchecker is something that I believe could enhance the UI of my feature, making the UI more appealing to users and just overall providing a better experience."
   ]
  },
  {
   "cell_type": "markdown",
   "metadata": {},
   "source": [
    "**Things I struggled with over the course of this trimester**\n",
    "\n",
    "* Some things I struggled with in terms of code over the course of this trimester was getting my API PUT function to work properly. I was constantly getting 500 Internal Server errors. I also struggled a lot to fix the restore function. Every time I would run the restore function, lots of errors would show up. To fix this I did a deep dive into the scripts restore file where I learned that one of the models in the database had a few errors causing the error in restore. I was then able to fix those errors and resolve the issue.\n",
    "* To solve these problems I would use debugging methods such as print statements to see where the code was going, and breakpoints to truly understand what the code was doing."
   ]
  }
 ],
 "metadata": {
  "language_info": {
   "name": "python"
  }
 },
 "nbformat": 4,
 "nbformat_minor": 2
}
