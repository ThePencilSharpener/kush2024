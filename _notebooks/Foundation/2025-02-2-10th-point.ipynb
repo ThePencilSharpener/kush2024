{
 "cells": [
  {
   "cell_type": "markdown",
   "metadata": {},
   "source": [
    "**Reaching out and helping someone new to you to get Final Exam materials organized + Preliminary live review with this person**\n",
    "I talked with Gyutae Kim about how to get my Final Exam materials organized. Since both of our roles were Backend Engineer, we discussed what 5 things we could say as well as helping each other do the MCQ. We checked each other's blog for mistakes, poor explanations, and whether we satisfied all the requirements. We also practiced explaining our project, feature, MCQ, FRQ's, 5 things we did, and everything else to each other in preparation for the check."
   ]
  },
  {
   "cell_type": "markdown",
   "metadata": {},
   "source": [
    "Honest Self-Grade Assessment:\n",
    "| Topic                                               | % of Grade | Points  |\n",
    "|-----------------------------------------------------|------------|---------|\n",
    "| **5 Things Over 12 Weeks / Issues, Burndown, Presentation** | 95%        | 4.75/5   |\n",
    "| **Full Stack Project Demo**                         | 95%        | 1.9/2   |\n",
    "| **Project Feature Blog Write-up**                   | 100%       | 1/1     |\n",
    "| **MCQ**                                             | 100%       | 1/1     |\n",
    "| **10th point**                                      | 89%        | 0.89/1   |\n",
    "| **Total**                                           | 95.8%        | 9.6/10  |"
   ]
  },
  {
   "cell_type": "markdown",
   "metadata": {},
   "source": [
    "**Reasoning for self-grade**\n",
    "1. **5 things over 12 weeks, Burndown, Presentation**\n",
    "* **Grade: 4.75/5**\n",
    "* **Reasoning:** I successfully contributed to 5 major things across the project. The Kanban board, team collaboration, and stand-up meetings on the regular kept me on track and kept the vision for the project clear. However there have been a few instances over the past 12 weeks were my issues were not organized very well.\n",
    "\n",
    "2. **Full Stack Project Demo**\n",
    "* **Grade: 1.9/2**\n",
    "* **Reasoning**: We demonstrated our features effectively and showed how they tied together to meet the project's purpose. I actively participated in both presenting and troubleshooting. However our features could also literally take data from other features within the project.\n",
    "\n",
    "3. **Project Feature Blog Write-up**\n",
    "* **Grade: 1/1**\n",
    "* **Reasoning**: The write-up was done with the use of CPT/FRQ language. I used cause, reasoning, and fix-reflections to write it. I believe I lacked a little bit in technical detail in my write-up, but I think I can learn through the college board videos and reading the materials Mr. Mort provided us.\n",
    "\n",
    "4. **MCQ**\n",
    "* **Grade: 1/1**\n",
    "* **Reasoning**: The MCQ was a straightforward assignment, with lot's of questions about psuedocode and what a function will return. However I did not get all the questions correct; I got a 56/67 on the MCQ. I wrote a reflection and analyzed the top 5 topics I felt I did not understand and needed to prepare for before the actual AP exam.\n",
    "\n",
    "5. **10th point**\n",
    "* **Grade: 0.89/1**\n",
    "* **Reasoning:** I do not think that I impressed Mr. Mort too much with my feature and my blog write-ups. However I hope he recognizes the work me and my group put in to complete all the requirements and recommendations Mr. Mort gave us. I went to N@TM to present our project as well as show off my feature to other students of the class and their parents. I left many google reviews on different groups about the things I liked as well as things I feel like they can improve on, showing my interest in other projects. In addition I gave advice to Rutvik(table 1 CSP P5) on the game he made. I also worked closely with Gyutae Kim on preparing the materials for the Final Exam. We called together multiple times to discuss what we should put in our blogs, what the 5 things could be, what CPT/FRQ language is, and just helping each other in general.\n",
    "\n",
    "<img width=\"514\" alt=\"Image\" src=\"https://github.com/user-attachments/assets/f93ec6c7-3762-40b9-adad-bd548fa6a633\" />\n",
    "<img width=\"515\" alt=\"Image\" src=\"https://github.com/user-attachments/assets/7fb8ad72-c64f-4827-a143-2be8b2db504c\" />\n",
    "<img width=\"514\" alt=\"Image\" src=\"https://github.com/user-attachments/assets/ce40d33b-4782-4a64-9d5d-bc333cde1605\" />\n",
    "\n",
    "**Final reflection**\n",
    "* **Total: 9.6/10**\n",
    "* **Summary**: I think my performance across these topics has been good, especially in the collaboration areas. There is still roo for improvement in terms of literally connecting my groupmates features. My and my team mates worked together hard to meet the requirements and recommendations and I feel like that can be somewhat seen through our project. I have asked my mother, who is a software engineer, for help multiple times throughout this trimester and she has always been very impressed with what we are doing in this class, from doing things such as a retrospective, or working in agile teams, or doing sprints. She tells me that this is what she does all the time in her job. I have found out the skills I am strong in and skills I am weak in. I will use these skills all throughout life and not just in trimester 3. \n",
    "\n",
    "\n",
    "**Reflection on individual strengths/weaknesses**\n",
    "1. Strengths\n",
    "* Collaboration: I collaborated with my group members so that our features all had similar HTML and CSS styling and I also collaborated with them by helping some of them finish their features.\n",
    "\n",
    "* Understanding of code: I have spent lot's of time going over the backend code in regards to coolfacts as well as the restore function(since that was giving us lots of problems) and I feel as if I have a solid understanding of the API code\n",
    "\n",
    "* Communication: My group and I had a group chat where we discussed various problems we had and how to solve them as well as going on calls after school to solve these problems. We also discussed heavily what everyone would present during N@TM.\n",
    "\n",
    "2. Weakness\n",
    "* Time management: I had poor time management and as a result I struggled with the deadlines for checks and often worked until the last minute to pass many of the checks\n",
    "\n",
    "* OVer-reliance on others: I often relied on other people in my group and out of it to help explain code to me or how to solve problems\n",
    "\n",
    "* I often got distracted by other parts of code within the backend. I was trying to figure it all out, line by line, instead of trying to understand the overall picture, and that cause me to waste lots of time.\n",
    "\n",
    "\n",
    "\n",
    "**Reflection on project by creating next steps plans for strengths and weaknesses**\n",
    "1. Next steps for strengths:\n",
    "* Continue on team collaboration and communication by making the group a safe place to ask questions and promote conversation\n",
    "\n",
    "* Maintain my understanding of the code by spending time after school reviewing the code and connecting the dots of where everything goes even as the code gets harder and harder\n",
    "2. Next steps for weaknesses:\n",
    "* Time Management: Break whatever I was trying to finish for the day into smaller chunks and take short breaks inbetween so I don't burn myself out and waste a long time on a break\n",
    "* Over-reliance on others: Start taking the initiative more by trying to figure out the problem on my own and taking personal accountability. If I need help I should ask whoever is helping to explain to me what they are doing instead of just watching them.\n",
    "* Distractions: Stay focused and on task by looking at the overall picture of what is happening and not getting worried about the small details."
   ]
  }
 ],
 "metadata": {
  "language_info": {
   "name": "python"
  }
 },
 "nbformat": 4,
 "nbformat_minor": 2
}
