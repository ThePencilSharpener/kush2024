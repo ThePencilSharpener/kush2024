{
 "cells": [
  {
   "cell_type": "raw",
   "id": "34023c7e",
   "metadata": {
    "vscode": {
     "languageId": "raw"
    }
   },
   "source": [
    "---\n",
    "layout: post\n",
    "title: Sprint3 Reflection\n",
    "description: Sprint3 Objectives and Reflection\n",
    "type: issues \n",
    "comments: true\n",
    "---"
   ]
  },
  {
   "cell_type": "markdown",
   "id": "3f9e7112",
   "metadata": {},
   "source": [
    "<h1>Big Idea 1.1 Collaboration</h1>\n",
    "<p>The objective for this Sprint was to build an interactive social media webpage and use backend to use and store data given by the user within a database. Our webpage is about reviewing popular books where those books can be discussed by users and rated</p>\n",
    "<p>Some key features of the website are the Like function, rate function, comment and reply functions, as well as a post function</p>\n",
    "<h1>Evidence of Collaboration</h1>\n",
    "<p>Our group decided to break the project into 2 teams. 1 team would do the frontend while the other would work on the backend.</p>\n",
    "<p>We started with an incremental process where we started with the generalized aspects and then narrowed it down. At first we made a book card and tested it to see if the idea was feasablie and then slowly added the rest of our features, testing each one as we went.</p>\n",
    "<p>We used pinterest images to create a general look and develop how the User Interface would look in order to make it visually appelaing and asthetic <a href=\"https://docs.google.com/document/d/12dHZLFPFWUvqTygW9zjSbPNYhu9FYtQPREWPRlYnnMI/edit?tab=t.0\">Link to our Vision Board</a></p>\n",
    "<p>We organized our code into frontend reposotories and backend reposotories for organization purposes. Our frontend reposotory was split into pages the first page containing the code for the main book review page and the second one containing the post form. We used Javascript and HTML for these pages. Our backend repository was split into groups, channels, and sections, with code in python.</p>\n",
    "<p>Some feedback we recieved was to make the website more visually appealing and to improve the interactivity.</p>\n",
    "<h1>Program Function and Purpose</h1>\n",
    "<p>Our website shows the user a new book everytime the page is refreshed. Users can tell us about their experience by rating the book, liking it, commenting on the book, and replying to comments. They can post about new books they have read in the post form by selecting the book reviews group and choosing either fiction or nonfiction</p>\n",
    "<p>Key User Interactions: Commenting and liking each others posts and posting things in certain channels. The input is the user reply and the output is the post count and comment sections.</p>\n",
    "<h1>Summary</h1>\n",
    "<p>I have learned a lot in Sprint3, like how to build an asthetic UI, how to test backend through postman, how to change data in databases, and how to use javascript in databases.</p>\n",
    "<br>\n",
    "<br>\n",
    "<p>My greatest accomplshment is understanding and using postman as intended. It was very hard for me to understand what postman was fundementally but I spent some time in Mr. Mort's classroom to understand it and realized it represented the frontend and you could fill out data in it to see how the backend would respond.</p>\n"
   ]
  }
 ],
 "metadata": {
  "kernelspec": {
   "display_name": "Python 3 (ipykernel)",
   "language": "python",
   "name": "python3"
  },
  "language_info": {
   "codemirror_mode": {
    "name": "ipython",
    "version": 3
   },
   "file_extension": ".py",
   "mimetype": "text/x-python",
   "name": "python",
   "nbconvert_exporter": "python",
   "pygments_lexer": "ipython3",
   "version": "3.10.12"
  }
 },
 "nbformat": 4,
 "nbformat_minor": 5
}
