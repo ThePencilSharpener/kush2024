{
 "cells": [
  {
   "cell_type": "raw",
   "id": "67715a2c",
   "metadata": {
    "vscode": {
     "languageId": "raw"
    }
   },
   "source": [
    "---\n",
    "layout: post\n",
    "title: Commit History Tri 3 Project\n",
    "type: issues \n",
    "comments: true\n",
    "---"
   ]
  },
  {
   "cell_type": "markdown",
   "id": "c9687084",
   "metadata": {},
   "source": [
    "<img src=\"{{site.baseurl}}/images/commits.png\" alt=\"Commits\"/>\n",
    "<img src=\"{{site.baseurl}}/images/commit2.png\" alt=\"Commits\"/>"
   ]
  },
  {
   "cell_type": "markdown",
   "id": "ff5b86d1",
   "metadata": {},
   "source": [
    "<img src=\"{{site.baseurl}}/images/java.png\" alt=\"Commits\"/>\n",
    "\n",
    "\n",
    "#  Project Burndown List\n",
    "\n",
    "##  Completed Tasks\n",
    "-  **Redesigned the GitHub Accounts Page**\n",
    "  - Made the page more appealing and professional\n",
    "  - Reduced excessive text for clarity and engagement\n",
    "\n",
    "-  **Described GitHub Pages Deployment via VSCode Browser**\n",
    "  - Clear, step-by-step instructions\n",
    "  - Focused on accessibility and simplicity\n",
    "\n",
    "---\n",
    "\n",
    "##  Upcoming Tasks\n",
    "- 🔗 **Connect Backend to Frontend for Leaderboard**\n",
    "  - Display user scores dynamically\n",
    "  - Fetch and render leaderboard data from the backend API\n",
    "\n",
    "-  **Personalize Leaderboard Rows**\n",
    "  - Highlight the current user’s row\n",
    "  - Show profile information (e.g., username, avatar, rank)\n",
    "  - Make the leaderboard more interactive and engaging\n"
   ]
  },
  {
   "cell_type": "markdown",
   "id": "752488e6",
   "metadata": {},
   "source": [
    "<img src=\"{{site.baseurl}}/images/contributions.png\" alt=\"Contributions\"/>"
   ]
  },
  {
   "cell_type": "markdown",
   "id": "74f4bf0f",
   "metadata": {},
   "source": [
    "<img src=\"{{site.baseurl}}/images/githubpage.png\" alt=\"Contributions\"/>"
   ]
  },
  {
   "cell_type": "markdown",
   "id": "5b484ec7",
   "metadata": {},
   "source": [
    "# Homework\n",
    "\n",
    "| #   | Topic                                                                 | Link |\n",
    "|-----|------------------------------------------------------------------------|------|\n",
    "| 1   | Base 64                                                               | https://github.com/ThePencilSharpener/kush2024/issues/14 |\n",
    "| 2   | Binary Base                                                           | https://github.com/ThePencilSharpener/kush2024/issues/17 |\n",
    "| 3   | Logic Gates                                                           | github.com/ThePencilSharpener/kush2024/issues/15 |\n",
    "| 4   | Undecidable and Decidable Problems in Computer Science & Graphs/Heuristics | https://github.com/ThePencilSharpener/kush2024/issues/16 |\n",
    "| 5   | Random Algorithms and Simulation Games Team Teach                    | https://github.com/ThePencilSharpener/kush2024/issues/18 |\n",
    "| 6   | Lists and Filtering Algorithms                                        | https://thepencilsharpener.github.io/kush2024/list-filtering-homework/ |\n",
    "| 7   | Safe Computing                                                        | https://github.com/ThePencilSharpener/kush2024/issues/12 |\n",
    "| 8   | Computing Bias                                                       | https://github.com/ThePencilSharpener/kush2024/issues/10 |\n",
    "| 9  | Crowdsourcing in Computing                                           | https://github.com/ThePencilSharpener/kush2024/issues/19 |\n",
    "| 10  | Digital Divide                                                       | https://thepencilsharpener.github.io/kush2024/2025/03/28/digital-divide_hwork_IPYNB_2_.html |\n",
    "| 11  | Beneficial and Harmful Effects of Computing                          | <img src=\"{{site.baseurl}}/images/beneficial.png\" alt=\"Contributions\"/> |\n"
   ]
  }
 ],
 "metadata": {
  "language_info": {
   "name": "python"
  }
 },
 "nbformat": 4,
 "nbformat_minor": 5
}
