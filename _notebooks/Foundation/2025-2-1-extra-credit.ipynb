{
 "cells": [
  {
   "cell_type": "raw",
   "id": "c21d0bad",
   "metadata": {
    "vscode": {
     "languageId": "raw"
    }
   },
   "source": [
    "---\n",
    "layout: post\n",
    "title: mort extra credit\n",
    "description:  session\n",
    "type: issues \n",
    "comments: true\n",
    "---"
   ]
  },
  {
   "cell_type": "markdown",
   "id": "14140a63",
   "metadata": {
    "vscode": {
     "languageId": "plaintext"
    }
   },
   "source": [
    "<p>The Q&A session emphasized the importance of communication and clarity in both personal and professional settings. Speaking concisely and delivering your answers effectively can make a significant impact, as it helps engage others and ensures your message is understood. Communication is as vital as technical skills in the workplace, and documenting your thought processes, issues, and ideas is crucial for collaboration. Keeping clear records allows others to follow your reasoning and improves team dynamics. Being proactive was another key theme, with examples such as cold emailing to create opportunities. Proactivity often leads to unexpected chances for growth and success.\n",
    "\n",
    "Additionally, the session highlighted the value of starting small and building on ideas gradually. Developing larger projects from smaller, manageable steps fosters creativity and consistency. Leveraging tools like GitBook was recommended for organizing and sharing information within teams, making collaboration more efficient. The discussion also touched on strategies for education, particularly in computer science. It’s important to research how universities support your major and to discuss specific, niche aspects of their programs when applying. Dual enrollment or earning associate degrees can provide college credits in advance, but students should be aware that top universities often limit the AP credits they accept. Taking high school classes that align with college requirements can make future coursework more manageable.\n",
    "\n",
    "Finally, the session encouraged pursuing extracurricular activities that are closely related to your major or areas of interest. Genuine passion is essential—it not only makes your efforts more fulfilling but also helps you stand out during applications and interviews. Whether it’s taking media classes, exploring creative electives, or engaging in projects that align with your goals, the key is to stay curious and committed to what truly inspires you.<p>"
   ]
  },
  {
   "cell_type": "markdown",
   "id": "4db56058",
   "metadata": {
    "vscode": {
     "languageId": "raw"
    }
   },
   "source": [
    "<img src=\"{{site.baseurl}}/images/IMG_2723.jpg\" alt=\"me\"/>\n"
   ]
  }
 ],
 "metadata": {
  "language_info": {
   "name": "python"
  }
 },
 "nbformat": 4,
 "nbformat_minor": 5
}
