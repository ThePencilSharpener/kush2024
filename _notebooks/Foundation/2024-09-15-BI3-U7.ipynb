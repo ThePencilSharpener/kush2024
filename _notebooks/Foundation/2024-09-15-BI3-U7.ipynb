{
 "cells": [
  {
   "cell_type": "raw",
   "id": "e56f2b92",
   "metadata": {
    "vscode": {
     "languageId": "raw"
    }
   },
   "source": [
    "---\n",
    "layout: post\n",
    "title: Big Idea 3 Unit 10\n",
    "permalink: /BI3-U10/\n",
    "type: issues \n",
    "---"
   ]
  },
  {
   "cell_type": "markdown",
   "id": "59ff2b6d",
   "metadata": {},
   "source": [
    "# Big Idea 3 Unit 10  \n",
    "*Oct 11, 2024 • 1 min read*\n",
    "\n",
    "---\n",
    "\n",
    "## Summary  \n",
    "### What Are Lists?\n",
    "\n",
    "A **list** is a data structure used in programming to store an **ordered collection** of elements. Lists can hold multiple values—such as numbers, strings, or even other lists—all inside a single variable.\n",
    "\n",
    "They are incredibly useful for organizing and managing data, especially when you need to store and manipulate groups of related items.\n",
    "\n",
    "---\n",
    "\n",
    "## Creating a List in Python\n",
    "\n",
    "- **Empty list**:  \n",
    "```python\n",
    "aList = []"
   ]
  }
 ],
 "metadata": {
  "language_info": {
   "name": "python"
  }
 },
 "nbformat": 4,
 "nbformat_minor": 5
}
