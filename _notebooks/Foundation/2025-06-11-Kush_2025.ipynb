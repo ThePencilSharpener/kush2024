{
 "cells": [
  {
   "cell_type": "raw",
   "id": "e77c8b5f",
   "metadata": {
    "vscode": {
     "languageId": "raw"
    }
   },
   "source": [
    "---\n",
    "layout: post\n",
    "title: Kush Kharia\n",
    "permalink: /Kush_2025/\n",
    "type: issues \n",
    "---"
   ]
  },
  {
   "cell_type": "markdown",
   "id": "8378e416",
   "metadata": {},
   "source": [
    "\n",
    "<style>\n",
    "  .links-container {\n",
    "    max-width: 800px;\n",
    "    margin: auto;\n",
    "    padding: 2rem;\n",
    "    text-align: center;\n",
    "  }\n",
    "\n",
    "  .link-card {\n",
    "    background-color: #e6f0ff;\n",
    "    border: 2px solid #b3d1ff;\n",
    "    border-radius: 12px;\n",
    "    padding: 1rem;\n",
    "    margin: 1rem 0;\n",
    "    transition: transform 0.2s ease, box-shadow 0.2s ease;\n",
    "  }\n",
    "\n",
    "  .link-card:hover {\n",
    "    transform: translateY(-4px);\n",
    "    box-shadow: 0 6px 12px rgba(0, 84, 179, 0.2);\n",
    "  }\n",
    "\n",
    "  .link-card a {\n",
    "    text-decoration: none;\n",
    "    color: #004080;\n",
    "    font-weight: bold;\n",
    "    font-size: 1.2rem;\n",
    "  }\n",
    "\n",
    "  h1 {\n",
    "    color: #003366;\n",
    "    margin-top: 2rem;\n",
    "  }\n",
    "\n",
    "  #contact {\n",
    "    margin-top: 3rem;\n",
    "    background-color: #f2f9ff;\n",
    "    padding: 1.5rem;\n",
    "    border-radius: 12px;\n",
    "    border: 1px solid #b3d1ff;\n",
    "  }\n",
    "\n",
    "  #contact a {\n",
    "    color: #0066cc;\n",
    "    font-weight: 600;\n",
    "    font-size: 1.1rem;\n",
    "  }\n",
    "</style>\n",
    "\n",
    "<div class=\"links-container\">\n",
    "  <h1>Explore My Work</h1>\n",
    "\n",
    "  <div class=\"link-card\">\n",
    "    <a href=\"https://thepencilsharpener.github.io/kush2024/summary/\">Summary of Experiences</a>\n",
    "  </div>\n",
    "\n",
    "  <div class=\"link-card\">\n",
    "    <a href=\"https://thepencilsharpener.github.io/kush2024/n@tm/\">Showcases</a>\n",
    "  </div>\n",
    "\n",
    "  <div class=\"link-card\">\n",
    "    <a href=\"https://thepencilsharpener.github.io/kush2024/certification/\">Certification</a>\n",
    "  </div>\n",
    "\n",
    "  <div class=\"link-card\">\n",
    "    <a href=\"https://www.linkedin.com/in/kush-kharia/\">LinkedIn Profile</a>\n",
    "  </div>\n",
    "\n",
    "  <div id=\"contact\">\n",
    "    <h2>📬 Contact Me</h2>\n",
    "    <a href=\"mailto:khariakush06@gmail.com\">khariakush06@gmail.com</a>\n",
    "  </div>\n",
    "</div>"
   ]
  }
 ],
 "metadata": {
  "language_info": {
   "name": "python"
  }
 },
 "nbformat": 4,
 "nbformat_minor": 5
}
