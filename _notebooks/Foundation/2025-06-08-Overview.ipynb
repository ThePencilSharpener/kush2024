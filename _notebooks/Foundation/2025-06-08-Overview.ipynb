{
 "cells": [
  {
   "cell_type": "raw",
   "id": "ca48b248",
   "metadata": {
    "vscode": {
     "languageId": "raw"
    }
   },
   "source": [
    "---\n",
    "layout: post\n",
    "title: Overview of Projects\n",
    "permalink: /overview/\n",
    "type: issues \n",
    "---"
   ]
  },
  {
   "cell_type": "markdown",
   "id": "821cc6bb",
   "metadata": {},
   "source": [
    "##  Features I Built\n",
    "\n",
    "| Feature | Description | Technologies Used |\n",
    "|--------|-------------|-------------------|\n",
    "|  ML Topic Predictor | Built a machine learning model to predict whether a phrase is biology, chemistry, or physics | Python, scikit-learn, Flask |\n",
    "|  Redesigned Pages | Redesigned \"Accounts\" and \"Workflows\" pages for clarity and user-friendliness | HTML, CSS, Markdown |\n",
    "|  VSCode Web Guide | Created a tutorial page for deploying VSCode in-browser without installing anything | Markdown, Screenshots, GitHub Pages |\n",
    "|  Quiz Game | Made a quiz game to make learning more competitive | JS, Flask, API |\n",
    "|  Leaderboard System | Leaderboard that tracks user scores using a related table between users and quiz points | Flask, SQLAlchemy, JS |\n",
    "\n",
    "\n",
    "<p>This trimester, I focused on building projects that not only work technically but also connect with users—whether that meant redesigning pages for better clarity or creating a quiz game that made learning fun. I’m especially proud of how I combined my interests in science and coding through the ML Topic Predictor, and how I pushed myself to debug and polish each feature for real classroom use.</p>"
   ]
  }
 ],
 "metadata": {
  "language_info": {
   "name": "python"
  }
 },
 "nbformat": 4,
 "nbformat_minor": 5
}
