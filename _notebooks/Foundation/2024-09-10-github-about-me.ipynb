{
 "cells": [
  {
   "cell_type": "raw",
   "metadata": {
    "vscode": {
     "languageId": "raw"
    }
   },
   "source": [
    "---\n",
    "layout: post\n",
    "title: About Me\n",
    "description:  About Me\n",
    "type: issues \n",
    "comments: true\n",
    "---"
   ]
  },
  {
   "cell_type": "markdown",
   "metadata": {},
   "source": [
    "# About Me\n",
    "Hola, me llamo Kush Kharia. Yo tengo quince anos y estoy un sophomore en Del Norte High School.\n",
    "My gusta mucho jugar al futbol con mis amigos en el parque y me gusta mucho leer.\n",
    "Tengo vivido en San Diego para para todo mi vida.\n",
    "Aqui es mi pagina de mi"
   ]
  }
 ],
 "metadata": {
  "language_info": {
   "name": "python"
  }
 },
 "nbformat": 4,
 "nbformat_minor": 2
}
