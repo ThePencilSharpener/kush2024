{
 "cells": [
  {
   "cell_type": "raw",
   "id": "f37cf624",
   "metadata": {
    "vscode": {
     "languageId": "raw"
    }
   },
   "source": [
    "---\n",
    "layout: post\n",
    "title: Showcases\n",
    "permalink: /n@tm/\n",
    "type: issues \n",
    "---"
   ]
  },
  {
   "cell_type": "markdown",
   "id": "814c8fc5",
   "metadata": {},
   "source": [
    "## Night at the Museum – Showcasing My Projects\n",
    "\n",
    "Over the course of the year, I participated in multiple Night at the Museum (N@TM) events, where I had the opportunity to present my coding projects and engage with a variety of visitors including classmates, teachers, and mentors.\n",
    "\n",
    "At my **first N@TM**, I showcased *Striverr*, highlighting its integration with my *CoolFacts* feature. I demonstrated how users could interact with CoolFacts dynamically, explaining the underlying code structure and API functionality. This presentation allowed me to receive valuable feedback on improving the user interface and backend logic.\n",
    "<img src=\"{{site.baseurl}}/images/tri1N@TM.jpg\" alt=\"Linkdin\" style=\"width:50%; max-width:400px; border-radius: 12px;\"/>\n",
    "\n",
    "For the **second Night at the Museum (N@TM)**, I presented a major redesign of three important pages on our class website: the **Accounts page**, the **VSCode Browser Extension page**, and the **GitHub Workflows page**. My goal was to make these pages more user-friendly and engaging by simplifying the content layout and adding interactive features.\n",
    "<img src=\"{{site.baseurl}}/images/tri2N@TM.jpg\" alt=\"Linkdin\" style=\"width:50%; max-width:400px; border-radius: 12px;\"/>\n",
    "\n",
    "\n",
    "One of the key highlights was the **quiz game** I developed and embedded at the bottom of each page. These quizzes tested visitors’ understanding of the material on that page in a fun and interactive way. Each quiz recorded the user’s score, and all scores were aggregated and displayed on a central **leaderboard**. The leaderboard was personalized to show the current signed-in user’s cumulative score, encouraging friendly competition and repeated visits.\n",
    "\n",
    "During the presentation, I explained the technical challenges of linking the quizzes to a centralized scoring system and integrating the leaderboard with user authentication. I also demonstrated how the redesign improved navigation and engagement, which received positive feedback from attendees. This event was a valuable experience for showcasing both my front-end design skills and my ability to connect multiple features into a cohesive user experience.\n",
    "\n",
    "Through these events, I established meaningful connections and gained confidence in communicating technical concepts clearly. The feedback and discussions helped refine my projects and inspired me to continue enhancing my coding and presentation skills.\n"
   ]
  }
 ],
 "metadata": {
  "language_info": {
   "name": "python"
  }
 },
 "nbformat": 4,
 "nbformat_minor": 5
}
