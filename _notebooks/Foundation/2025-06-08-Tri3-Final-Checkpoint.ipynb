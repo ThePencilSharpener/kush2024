{
 "cells": [
  {
   "cell_type": "raw",
   "id": "d3e6fe76",
   "metadata": {
    "vscode": {
     "languageId": "raw"
    }
   },
   "source": [
    "---\n",
    "layout: post\n",
    "title: Summary\n",
    "permalink: /summary/\n",
    "type: issues \n",
    "---"
   ]
  },
  {
   "cell_type": "markdown",
   "id": "0e8842a6",
   "metadata": {},
   "source": [
    "#  Trimester 3 Computer Science Principles Blog\n",
    "\n",
    "##  Overview\n",
    "\n",
    "This year was fun and I learned a lot of exciting things, such as how machine learning works and using models and animations for games. I learned how to code from scratch as I had virtually no knowledge. My goal for this year was to get a 5 on the AP CSP exam. A major milestone for me was integrating machine learning into one of my final projects and also converting a full python game to FE and BE using flask and makefile, that project was the hardest thing I had done all year across all my clasess and I had so many errors and things that would go wrong but eventually I got it to work after many iterations. Overall, I genuinely enjoyed computer science this year and feel confident as a developer.\n",
    "\n",
    "---\n",
    "\n",
    "##  Trimester 3 Highlights\n",
    "\n",
    "###  Features I Built\n",
    "\n",
    "| Feature | Description | Technologies Used |\n",
    "|--------|-------------|-------------------|\n",
    "|  DNA Drag and Drop | Drag and Drop Minigame for teaching DNA Sequencing | Python, Flask |\n",
    "|  Biotech Island Game |  | HTML, CSS, Markdown, Python, Flask |\n",
    "|  Quotes Database | Pulls quotes from database and allows user to add their own quotes. It also saves the user data if logged in | Flask, SQLAlchemy, JS |\n",
    "|  Daily Planner | Allows users to input tasks along with categories and due dates and mark them as complete. Also allows for sorting and filtering. Saves user data. | Flask, SQLAlchemy, JS |\n",
    "\n",
    "---\n",
    "\n",
    "###  Problems and How I Fixed Them\n",
    "\n",
    "- **Image loading errors**: Resolved by reconfiguring how the images were being loaded and using promise.all.\n",
    "- **Merge Conflicts in Git**: Used `git rebase`, `merge`, and VSCode source control tools to fix branches cleanly.\n",
    "- **Debugging Frontend Logic**: Used `console.log()` and `print()` to trace logic and catch edge-case bugs.\n",
    "- **Database Loading errors**: Traced through database relationship issues and fixed ORM mapping and SQL.\n",
    "\n",
    "---\n",
    "\n",
    "##  Portfolio\n",
    "\n",
    "- [My LinkedIn Profile](https://www.linkedin.com/in/zaid-alrefai-83b5b7305/)\n",
    "\n",
    "---\n",
    "\n",
    "##  AP CSP MCQ Scores and Reflection\n",
    "\n",
    "| MCQ | Score |\n",
    "|-----|-------|\n",
    "| 2018 MCQ |  23/66 |\n",
    "| 2020 MCQ |  45/67 |\n",
    "| 2021 MCQ |  44/70 |\n",
    "\n",
    "\n",
    "### Reflection\n",
    "\n",
    "I think that each trimester MC provided insight into my understanding of the curriculum, which covers topics from data and programming to the internet and global impact. I showed significant growth in the Algorithms and Programming section, especially in areas like conditionals, iteration, and algorithm development. For example, my iteration scores improved from 91% in 2018 to 100% in both 2020 and 2021. Topics like calling procedures and binary search, which were initially low or incomplete, saw gradual increases. In the Data section, I consistently scored 100% in areas such as binary numbers, data compression, and data extraction, indicating a strong grasp of data-related concepts. I also performed well in the Global Impact and Internet sections, maintaining high scores across topics like the digital divide, computing bias, and safe computing. However, some areas still need improvement. Boolean expressions were challenging at first, scoring 0% in 2018, although I improved by 2020. Binary search remained a weak spot, with 0% in both 2018 and 2021. Additionally, my understanding of mathematical expressions was inconsistent, scoring 67% in 2018 and 100% in 2020 but lacking data for 2021. Overall, I’ve made strong progress across most units, especially in data and societal impact, and with more focused practice on certain algorithm topics, I can continue to improve my performance.\n",
    "\n",
    "\n",
    "---\n",
    "\n",
    "##  Favorite Project of the Year\n",
    "\n",
    "My favorite project was the **Biotech Island Game**. I really enjoyed learning about how to build games and run them using python. I enjoyed making the character model and all the scenes. I also learned a lot from creating the game as I also had to convert it from being fully python to BE and FE and into OCS.\n",
    "\n",
    "---\n",
    "\n",
    "##  Trimester 1 & 2 Summary\n",
    "\n",
    "###  Trimester 1\n",
    "- Built a personalized blog using Markdown and Jupyter Notebook.\n",
    "- Learned the basics of web development (HTML/CSS).\n",
    "- Gained confidence in formatting Markdown documents and storytelling through code.\n",
    "\n",
    "###  Trimester 2\n",
    "- Created the Quotes API with full CRUD functionality using Flask and SQLAlchemy.\n",
    "- Improved my understanding of backend databases and relationships between tables.\n",
    "- Developed secure authentication using JWT and practiced clean API design.\n",
    "\n",
    "---"
   ]
  }
 ],
 "metadata": {
  "language_info": {
   "name": "python"
  }
 },
 "nbformat": 4,
 "nbformat_minor": 5
}
