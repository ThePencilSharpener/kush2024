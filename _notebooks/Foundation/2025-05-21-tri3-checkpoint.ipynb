{
 "cells": [
  {
   "cell_type": "raw",
   "id": "67715a2c",
   "metadata": {
    "vscode": {
     "languageId": "raw"
    }
   },
   "source": [
    "---\n",
    "layout: post\n",
    "title: Commit History Tri 3 Project\n",
    "type: issues \n",
    "comments: true\n",
    "---"
   ]
  },
  {
   "cell_type": "markdown",
   "id": "c9687084",
   "metadata": {},
   "source": [
    "<img src=\"{{site.baseurl}}/images/commits.png\" alt=\"Commits\"/>"
   ]
  },
  {
   "cell_type": "markdown",
   "id": "ff5b86d1",
   "metadata": {},
   "source": [
    "#  Project Burndown List\n",
    "\n",
    "##  Completed Tasks\n",
    "-  **Redesigned the GitHub Accounts Page**\n",
    "  - Made the page more appealing and professional\n",
    "  - Reduced excessive text for clarity and engagement\n",
    "\n",
    "-  **Described GitHub Pages Deployment via VSCode Browser**\n",
    "  - Clear, step-by-step instructions\n",
    "  - Focused on accessibility and simplicity\n",
    "\n",
    "---\n",
    "\n",
    "##  Upcoming Tasks\n",
    "- 🔗 **Connect Backend to Frontend for Leaderboard**\n",
    "  - Display user scores dynamically\n",
    "  - Fetch and render leaderboard data from the backend API\n",
    "\n",
    "-  **Personalize Leaderboard Rows**\n",
    "  - Highlight the current user’s row\n",
    "  - Show profile information (e.g., username, avatar, rank)\n",
    "  - Make the leaderboard more interactive and engaging\n"
   ]
  }
 ],
 "metadata": {
  "language_info": {
   "name": "python"
  }
 },
 "nbformat": 4,
 "nbformat_minor": 5
}
