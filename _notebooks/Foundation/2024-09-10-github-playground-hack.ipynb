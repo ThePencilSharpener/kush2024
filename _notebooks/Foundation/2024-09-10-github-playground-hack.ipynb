{
 "cells": [
  {
   "cell_type": "raw",
   "metadata": {
    "vscode": {
     "languageId": "raw"
    }
   },
   "source": [
    "---\n",
    "layout: post\n",
    "title: Sprint 5 Reflection\n",
    "description:  A blog about full stack development\n",
    "permalink: /sprint-5-reflection/\n",
    "type: issues \n",
    "comments: true\n",
    "---"
   ]
  },
  {
   "cell_type": "markdown",
   "metadata": {},
   "source": [
    "# Intro Requests\n",
    "### Site Purpose\n",
    "\"Empowering growth, celebrating achievements, connecting journeys, inspiring brighter futures\"\n",
    "<p>\n",
    "Empowering platform: Focused on helping individuals overcome challenges and celebrate personal growth.\n",
    "<br>\n",
    "<br>\n",
    "Profile achievements: Users can highlight their progress and milestones on their profiles.\n",
    "<br>\n",
    "<br>\n",
    "Anonymous chat feature: Allows users to connect with others who have faced similar struggles in a safe, private, and supportive environment.\n",
    "<br>\n",
    "<br>\n",
    "Hobbies log: Users can track and share their interests, encouraging exploration of new passions and creative pursuits.\n",
    "<br>\n",
    "<br>\n",
    "Step tracker: Promotes healthy habits by helping users monitor their physical activity and work toward fitness goals.\n",
    "<br>\n",
    "<br>\n",
    "Bucket list feature: Enables users to set and document aspirations, providing inspiration and accountability for pursuing dreams.\n",
    "<br>\n",
    "<br>\n",
    "Facts log: Offers a personalized space to have facts about famous people or people they look up to, uplifting users and encouraging them to make those facts a reality about themselves.\n",
    "<br>\n",
    "<br>\n",
    "Dynamic space for connection and growth: Combining these features to create a platform for personal development and celebration.</p>\n",
    "\n",
    "<p>Individual Coolfacts Feature Purpose\n",
    "My feature is space to view facts, which lets users add, update, delete, and view the facts they have inputed through the CRUD method as a way to express cool facts they may have about famous people. Users can then use these cool facts as motivation to make those facts true about themselves. They can see amazing facts that great people have done and can strive to become like these people, posting their facts in the coolfacts page, letting everyone know that they got inspiration from this site's facts page.</p>\n",
    "\n",
    "## List Requests"
   ]
  },
  {
   "cell_type": "code",
   "execution_count": null,
   "metadata": {
    "vscode": {
     "languageId": "javascript"
    }
   },
   "outputs": [],
   "source": [
    "const data = await response.json();\n",
    "const coolFactsList = document.getElementById('cool-facts-list');\n",
    "coolFactsList.innerHTML = \"\";\n",
    "data.cool_facts.forEach(coolFact => {\n",
    "    const listItem = document.createElement('li');\n",
    "    listItem.textContent = coolFact;\n",
    "    coolFactsList.appendChild(listItem);\n",
    "});\n",
    "\n"
   ]
  },
  {
   "cell_type": "markdown",
   "metadata": {},
   "source": [
    "const data = await response.json(); Parses the JSON response from the API into a JavaScript object (data).\n",
    "<br>\n",
    "const coolFactsList = document.getElementById('cool-facts-list'); \n",
    "<br>\n",
    "Gets the element where the cool facts will be displayed.\n",
    "<br>\n",
    "coolFactsList.innerHTML = \"\"; \n",
    "<br>\n",
    "Clears any existing list items from the list.\n",
    "<br>\n",
    "data.cool_facts.forEach(coolFact => { ... }); \n",
    "<br>\n",
    "Loops through the array of cool facts.\n",
    "<br>\n",
    "const listItem = document.createElement('li'); \n",
    "<br>\n",
    "Creates a new li element for each cool fact.\n",
    "<br>\n",
    "listItem.textContent = coolFact; \n",
    "<br>\n",
    "Sets the text of the li to the cool fact.\n",
    "<br>\n",
    "coolFactsList.appendChild(listItem); \n",
    "<br>\n",
    "Adds the new li to the ul or ol in the DOM. \n",
    "<br>\n",
    "Results in cool facts being displayed as a list in the browser.</p>"
   ]
  },
  {
   "cell_type": "markdown",
   "metadata": {
    "vscode": {
     "languageId": "javascript"
    }
   },
   "source": [
    "## Use of Lists and Dictionaries, Code Descriptions\n",
    "## Lists\n"
   ]
  },
  {
   "cell_type": "code",
   "execution_count": null,
   "metadata": {
    "vscode": {
     "languageId": "javascript"
    }
   },
   "outputs": [],
   "source": [
    "coolfacts = CoolFact.query.filter_by(category=category).all()"
   ]
  },
  {
   "cell_type": "markdown",
   "metadata": {},
   "source": [
    "<p>CoolFact refers to the CoolFact class in the model file, mapping the cool_facts table to the database.</p>\n",
    "<p>.query</p> \n",
    "<br>\n",
    "<p>is a query object provided by SQLAlchemy, a third-party library, allowing interaction with the database through queries such as retrieving, filtering, or sorting rows.</p>\n",
    "<br>\n",
    "<p>.filter_by(category=category)</p>\n",
    "<br>\n",
    "<p>is an SQLAlchemy method that filters results. It generates an SQL WHERE clause, filtering the cool_facts table to select a cool fact based on a category. The first category refers to the database column, and the second category is the variable specifying which category the cool fact belongs to.</p>\n",
    "<br>\n",
    "<p>.all()</p>\n",
    "<br>\n",
    "<p>is an SQLAlchemy method that executes the query and returns all matching rows as a Python list. Each list item contains the values from each column, such as id, name, and category.</p>"
   ]
  },
  {
   "cell_type": "markdown",
   "metadata": {},
   "source": [
    "## Dictionaries\n",
    "## Create: "
   ]
  },
  {
   "cell_type": "code",
   "execution_count": null,
   "metadata": {},
   "outputs": [],
   "source": [
    "def create(self):\n",
    "    try: \n",
    "        db.session.add(self)\n",
    "        db.session.commit()\n",
    "        return True\n",
    "    except IntegrityError: db.session.rollback()\n",
    "    return False "
   ]
  },
  {
   "cell_type": "markdown",
   "metadata": {},
   "source": [
    "<p>Adds a row(list of data) as a coolfact with identifiers for each column</p>\n"
   ]
  },
  {
   "cell_type": "markdown",
   "metadata": {},
   "source": [
    "## Read"
   ]
  },
  {
   "cell_type": "code",
   "execution_count": null,
   "metadata": {},
   "outputs": [],
   "source": [
    "def read(self):\n",
    "    return {\"id\": self.id, \"name\": self.name, \"category\": self.category}"
   ]
  },
  {
   "cell_type": "markdown",
   "metadata": {},
   "source": [
    "<p>Returns dictionary representation of coolfacts(columns as keys)</p>\n"
   ]
  },
  {
   "cell_type": "markdown",
   "metadata": {},
   "source": [
    "## Update"
   ]
  },
  {
   "cell_type": "code",
   "execution_count": null,
   "metadata": {},
   "outputs": [],
   "source": [
    "def update(self):\n",
    "    try:\n",
    "        db.session.commit()\n",
    "        return True\n",
    "    except IntegrityError:\n",
    "        db.session.rollback()\n",
    "        return False"
   ]
  },
  {
   "cell_type": "markdown",
   "metadata": {},
   "source": [
    "<p>Updates column values for an existing row.</p>"
   ]
  },
  {
   "cell_type": "markdown",
   "metadata": {},
   "source": [
    "## Delete"
   ]
  },
  {
   "cell_type": "code",
   "execution_count": null,
   "metadata": {},
   "outputs": [],
   "source": [
    "def delete(self):\n",
    "    try:\n",
    "        db.session.delete(self)\n",
    "        db.session.commit()\n",
    "        return True\n",
    "    except IntegrityError:\n",
    "        db.session.rollback()\n",
    "        return False"
   ]
  },
  {
   "cell_type": "markdown",
   "metadata": {},
   "source": [
    "<p>Deletes a row from the table.</p>\n",
    "<br>\n",
    "<br>\n",
    "<br>\n",
    "<p>These four operations are CRUD operations, allowing for addition, retrieval, updating, and deletion of specific rows and columns(dictionaries) in the database.</p>\n"
   ]
  },
  {
   "cell_type": "code",
   "execution_count": null,
   "metadata": {},
   "outputs": [],
   "source": [
    "from flask import Blueprint, request, jsonify, current_app, Response, g\n",
    "from flask_restful import Api, Resource  # Used for REST API building\n",
    "from __init__ import app  # Ensure __init__.py initializes your Flask app\n",
    "from model.coolfacts import CoolFacts\n",
    "from api.jwt_authorize import token_required\n",
    "# Blueprint for the API\n",
    "coolfacts_api = Blueprint('coolfacts_api', __name__, url_prefix='/api')\n",
    "api = Api(coolfacts_api)  # Attach Flask-RESTful API to the Blueprint\n",
    "class CoolFactsAPI:\n",
    "    \"\"\"\n",
    "    Define the API CRUD endpoints for the Post model.\n",
    "    There are four operations that correspond to common HTTP methods:\n",
    "    - post: create a new post\n",
    "    - get: read posts\n",
    "    - put: update a post\n",
    "    - delete: delete a post\n",
    "    \"\"\"\n",
    "    class _CRUD(Resource):\n",
    "        \n",
    "        @token_required()\n",
    "        def post(self):\n",
    "            # Obtain the request data sent by the RESTful client API\n",
    "            data = request.get_json()\n",
    "            # Create a new post object using the data from the request\n",
    "            post = CoolFacts(age=data['age'], coolfacts=data['coolfacts'])\n",
    "            # Save the post object using the Object Relational Mapper (ORM) method defined in the model\n",
    "            post.create()\n",
    "            # Return response to the client in JSON format, converting Python dictionaries to JSON format\n",
    "            return jsonify(post.read())\n",
    "        \n",
    "        @token_required()\n",
    "        def put(self):\n",
    "            try:\n",
    "                # Obtain the request data\n",
    "                data = request.get_json()\n",
    "        \n",
    "                # Check if 'id' is in the data\n",
    "                if 'id' not in data:\n",
    "                    return jsonify({\"error\": \"ID is required\"}), 400\n",
    "        \n",
    "                # Find the current post from the database table(s)\n",
    "                post = CoolFacts.query.get(data['id'])\n",
    "                if post is None:\n",
    "                    return {'message': 'Coolfact not found'}, 404\n",
    "                # Check if the post exists\n",
    "                \n",
    "                #if not post:\n",
    "                #    return jsonify({\"error\": \"CoolFact not found\"}), 404\n",
    "        \n",
    "                # Update the post\n",
    "                \n",
    "                post.age = data['age']\n",
    "                \n",
    "                post.coolfacts = data['coolfacts']\n",
    "        \n",
    "                # Save the post\n",
    "                post.update()\n",
    "        \n",
    "                # Return response\n",
    "                return jsonify(post.read())\n",
    "            except Exception as e:\n",
    "                # Return an error message in case of failure\n",
    "                return jsonify({\"error\": str(e)}), 500\n",
    "        @token_required()\n",
    "        def get(self):\n",
    "            try:\n",
    "                # Query all entries in the BinaryHistory table\n",
    "                entries = CoolFacts.query.all()\n",
    "                # Convert the entries to a list of dictionaries\n",
    "                results = [entry.read() for entry in entries]\n",
    "                # Return the list of results in JSON format\n",
    "                return jsonify(results)\n",
    "            except Exception as e:\n",
    "                # Return an error message in case of failure\n",
    "                return jsonify({\"error\": str(e)}), 500\n",
    "            \n",
    "        @token_required()\n",
    "        def delete(self):\n",
    "            # Obtain the request data\n",
    "            data = request.get_json()\n",
    "            # Find the current post from the database table(s)\n",
    "            post = CoolFacts.query.get(data['id'])\n",
    "            # Delete the post using the ORM method defined in the model\n",
    "            post.delete()\n",
    "            # Return response\n",
    "            return jsonify({\"message\": \"Post deleted\"})\n",
    "    \"\"\"\n",
    "    Map the _CRUD class to the API endpoints for /post.\n",
    "    - The API resource class inherits from flask_restful.Resource.\n",
    "    - The _CRUD class defines the HTTP methods for the API.\n",
    "    \"\"\"\n",
    "    api.add_resource(_CRUD, '/coolfacts')\n",
    "if __name__ == '__main__':\n",
    "    app.run(debug=True)"
   ]
  },
  {
   "cell_type": "markdown",
   "metadata": {},
   "source": [
    "## Requests\n",
    "\n",
    "<p> 1. GET: Fetches hobbies filtered by category and returns them as a JSON list.\n",
    "<br>\n",
    "    2. POST: Adds a new fact to the database, requiring name and category in the request body.\n",
    "<br>    \n",
    "    3. PUT: Updates an existing fact in the database, identified by old_name, and modifies its name and category.\n",
    "<br>   \n",
    "    4. DELETE: Deletes a fact from the database, identified by its name and category.</p>\n",
    "<br>\n",
    "<br>\n",
    "<p>This is the API code with the GET, POST, PUT, and DELETE requests to work with the hobbies list based on each category. It allows for hobbies to be retrieved, added, updated, and deleted from each separate categorical list.</p>"
   ]
  },
  {
   "cell_type": "markdown",
   "metadata": {},
   "source": [
    "## GET Method"
   ]
  },
  {
   "cell_type": "code",
   "execution_count": null,
   "metadata": {},
   "outputs": [],
   "source": [
    "def get(self): category = request.args.get('category', 'general') # Sequencing coolfacts = CoolFacts.query.filter_by(category=category).all() # Sequencing if coolfacts: # Selection return jsonify({\"category\": category, \"coolfacts\": [coolfacts.name for coolfact in coolfacts]}) # Iteration else: return jsonify({\"message\": \"Category not found\"}), 404 # Selection"
   ]
  },
  {
   "cell_type": "markdown",
   "metadata": {},
   "source": [
    "<p>Sequencing: The first two lines of code perform sequencing because they execute in order. The first line retrieves the category parameter from the request, and the second line fetches the list of coolfacts from the database based on the retrieved category parameter.</p>\n",
    "<br>\n",
    "<br>\n",
    "<p>Selection: The if statement demonstrates selection, as it chooses between different JSON messages to return. If there is a coolfact in the coolfacts list, it returns a JSON message containing the name and category of the coolfact. Otherwise, it returns a 404 not found error, indicating that no matching category was found.</p>\n",
    "<br>\n",
    "<br>\n",
    "<p>Iteration: The line right below if coolfacts is an iteration statement, as it loops through coolfact.name for coolfact in coolfacts to iterate over the coolfacts list multiple times and extract the name of each coolfact in the JSON response.</p>\n"
   ]
  },
  {
   "cell_type": "markdown",
   "metadata": {},
   "source": [
    "## Parameters and Return Type\n",
    "<p>Parameters: request.args.get('category', 'general') retrieves the query parameter category from the request url /api/coolfacts?category=.... If a parameter isn't provided, it defaults to the general category. request.get_json() is used for POST, PUT, and DELETE methods, and it retrieves the body of an HTTP request expected to be in JSON. This JSON comes from user input.\n",
    "Return Type: jsonify() is used in all methods in order to take a Python dictionary and return it as a JSON response that can be sent to the user.</p>"
   ]
  },
  {
   "cell_type": "markdown",
   "metadata": {},
   "source": [
    "## Call to Algorithm Request"
   ]
  },
  {
   "cell_type": "code",
   "execution_count": null,
   "metadata": {
    "vscode": {
     "languageId": "javascript"
    }
   },
   "outputs": [],
   "source": [
    "<script type=\"module\">\n",
    "    const pythonURI = 'http://127.0.0.1:8887'; // Adjust the port if necessary\n",
    "    const fetchOptions = {\n",
    "        headers: {\n",
    "            'Content-Type': 'application/json'\n",
    "        },\n",
    "        credentials: 'include' // Include credentials in fetch requests\n",
    "    };\n",
    "    async function fetchCoolFacts() {\n",
    "        try {\n",
    "            const response = await fetch(`${pythonURI}/api/coolfacts`, {\n",
    "                ...fetchOptions,\n",
    "                method: 'GET'\n",
    "            });\n",
    "            if (!response.ok) {\n",
    "                throw new Error('Failed to fetch cool facts: ' + response.statusText);\n",
    "            }\n",
    "            const data = await response.json();\n",
    "            const coolFactsList = document.getElementById('coolfacts-list');\n",
    "            coolFactsList.innerHTML = \"\";\n",
    "            data.forEach(fact => {\n",
    "                const listItem = document.createElement('li');\n",
    "                listItem.style.display = 'flex';\n",
    "                listItem.style.alignItems = 'center';\n",
    "                listItem.style.justifyContent = 'space-between';\n",
    "                const factText = document.createElement('span');\n",
    "                factText.textContent = `${fact.age}: ${fact.coolfacts}`;\n",
    "                const updateButton = document.createElement('button');\n",
    "                updateButton.textContent = 'Update';\n",
    "                updateButton.style.marginLeft = '10px';\n",
    "                updateButton.style.padding = '2px 5px';\n",
    "                updateButton.onclick = () => promptUpdateCoolFact(fact.id, fact.age, fact.coolfacts);\n",
    "                const deleteButton = document.createElement('button');\n",
    "                deleteButton.textContent = 'Delete';\n",
    "                deleteButton.style.marginLeft = '10px';\n",
    "                deleteButton.style.padding = '2px 5px';\n",
    "                deleteButton.onclick = () => deleteCoolFact(fact.id);\n",
    "                listItem.appendChild(factText);\n",
    "                listItem.appendChild(updateButton);\n",
    "                listItem.appendChild(deleteButton);\n",
    "                coolFactsList.appendChild(listItem);\n",
    "            });\n",
    "        } catch (error) {\n",
    "            console.error('Error fetching cool facts:', error);\n",
    "        }\n",
    "    }\n",
    "    async function addCoolFact() {\n",
    "        const age = document.getElementById('new-fact-age').value;\n",
    "        const coolfacts = document.getElementById('new-fact-text').value;\n",
    "        try {\n",
    "            const response = await fetch(`${pythonURI}/api/coolfacts`, {\n",
    "                ...fetchOptions,\n",
    "                method: 'POST',\n",
    "                headers: {\n",
    "                    'Content-Type': 'application/json'\n",
    "                },\n",
    "                body: JSON.stringify({ age, coolfacts })\n",
    "            });\n",
    "            if (!response.ok) {\n",
    "                throw new Error('Failed to add cool fact: ' + response.statusText);\n",
    "            }\n",
    "            alert('Cool fact added successfully!');\n",
    "            document.getElementById('new-fact-age').value = ''; // Clear input\n",
    "            document.getElementById('new-fact-text').value = ''; // Clear input\n",
    "            fetchCoolFacts(); // Refresh cool facts list\n",
    "        } catch (error) {\n",
    "            console.error('Error adding cool fact:', error);\n",
    "            alert('Error adding cool fact: ' + error.message);\n",
    "        }\n",
    "    }\n",
    "    async function promptUpdateCoolFact(id, age, coolfacts) {\n",
    "        const updatedAge = prompt('Enter new age:', age);\n",
    "        const updatedCoolFact = prompt('Enter new cool fact:', coolfacts);\n",
    "        if (updatedAge && updatedCoolFact) {\n",
    "            try {\n",
    "                const response = await fetch(`${pythonURI}/api/coolfacts`, {\n",
    "                    ...fetchOptions,\n",
    "                    method: 'PUT',\n",
    "                    headers: {\n",
    "                        'Content-Type': 'application/json'\n",
    "                    },\n",
    "                    body: JSON.stringify({ id, age: updatedAge, coolfacts: updatedCoolFact })\n",
    "                });\n",
    "                if (!response.ok) {\n",
    "                    throw new Error('Failed to update cool fact: ' + response.statusText);\n",
    "                }\n",
    "                alert('Cool fact updated successfully!');\n",
    "                fetchCoolFacts(); // Refresh cool facts list\n",
    "            } catch (error) {\n",
    "                console.error('Error updating cool fact:', error);\n",
    "                alert('Error updating cool fact: ' + error.message);\n",
    "            }\n",
    "        }\n",
    "    }\n",
    "    async function deleteCoolFact(id) {\n",
    "        try {\n",
    "            const response = await fetch(`${pythonURI}/api/coolfacts`, {\n",
    "                ...fetchOptions,\n",
    "                method: 'DELETE',\n",
    "                headers: {\n",
    "                    'Content-Type': 'application/json'\n",
    "                },\n",
    "                body: JSON.stringify({ id })\n",
    "            });\n",
    "            if (!response.ok) {\n",
    "                throw new Error('Failed to delete cool fact: ' + response.statusText);\n",
    "            }\n",
    "            alert('Cool fact deleted successfully!');\n",
    "            fetchCoolFacts(); // Refresh cool facts list\n",
    "        } catch (error) {\n",
    "            console.error('Error deleting cool fact:', error);\n",
    "            alert('Error deleting cool fact: ' + error.message);\n",
    "        }\n",
    "    }\n",
    "    document.getElementById('add-fact-btn').addEventListener('click', addCoolFact);\n",
    "    fetchCoolFacts();\n",
    "</script>\n",
    "\n",
    "<style>\n",
    "/* General Styles */\n",
    "body {\n",
    "    font-family: Arial, sans-serif;\n",
    "    background-color: #121212;\n",
    "    color: #fff;\n",
    "    margin: 0;\n",
    "    padding: 0;\n",
    "  }\n",
    "  h1, h2 {\n",
    "    text-align: center;\n",
    "  }\n",
    "  .container {\n",
    "    display: flex;\n",
    "    justify-content: center;\n",
    "    width: 100%;\n",
    "    max-width: 1200px;\n",
    "    padding: 20px;\n",
    "    box-sizing: border-box;\n",
    "  }\n",
    "  .form-container {\n",
    "    display: flex;\n",
    "    flex-direction: column;\n",
    "    max-width: 800px;\n",
    "    width: 100%;\n",
    "    background-color: #2C3E50;\n",
    "    padding: 20px;\n",
    "    border-radius: 10px;\n",
    "    box-shadow: 0 0 10px rgba(0, 0, 0, 0.1);\n",
    "    color: #ECF0F1;\n",
    "  }\n",
    "  .form-container label, .form-container input, .form-container textarea, .form-container select, .form-container button {\n",
    "    margin-bottom: 10px;\n",
    "    padding: 10px;\n",
    "    border-radius: 5px;\n",
    "    border: none;\n",
    "    width: 100%;\n",
    "  }\n",
    "  .form-container button {\n",
    "    background-color: #34495E;\n",
    "    color: #ECF0F1;\n",
    "    cursor: pointer;\n",
    "  }\n",
    "  .form-container button:hover {\n",
    "    background-color: #1A252F;\n",
    "  }\n",
    "  #coolfacts-list li {\n",
    "    display: flex;\n",
    "    align-items: center;\n",
    "    justify-content: space-between;\n",
    "    background-color: #34495E;\n",
    "    padding: 10px;\n",
    "    margin-bottom: 5px;\n",
    "    border-radius: 5px;\n",
    "  }\n",
    "  #coolfacts-list button {\n",
    "    background-color: #E74C3C;\n",
    "    color: #ECF0F1;\n",
    "    border: none;\n",
    "    padding: 2px 5px;\n",
    "    border-radius: 5px;\n",
    "    cursor: pointer;\n",
    "    font-size: 12px; /* Make the button smaller */\n",
    "    width: 60px; /* Make the button smaller horizontally */\n",
    "    margin-left: 0; /* Move the button closer */\n",
    "  }\n",
    "  #coolfacts-list button.update-btn {\n",
    "    background-color: #3498DB;\n",
    "    margin-left: 10px; /* Add some space between buttons */\n",
    "  }\n",
    "  #coolfacts-list button.update-btn:hover {\n",
    "    background-color: #2980B9;\n",
    "  }\n",
    "  #coolfacts-list span {\n",
    "    flex-grow: 1; /* Ensure the text takes up available space */\n",
    "  }\n",
    "  #coolfacts-list button:hover {\n",
    "    background-color: #C0392B;\n",
    "  }\n",
    "  /* Sidebar */\n",
    "  .sidebar {\n",
    "    position: fixed;\n",
    "    top: 0;\n",
    "    left: 0;\n",
    "    width: 180px;\n",
    "    height: 100%;\n",
    "    background-color: #121212 !important;\n",
    "    display: flex;\n",
    "    flex-direction: column;\n",
    "    align-items: center;\n",
    "    padding-top: 20px;\n",
    "    color: white;\n",
    "    border-right: 1px solid gray;\n",
    "  }\n",
    "  .sidebar-btn {\n",
    "    background-color: #121212;\n",
    "    color: white !important;\n",
    "    border: 2px solid cyan;\n",
    "    margin: 10px 0;\n",
    "    padding: 10px;\n",
    "    border-radius: 8px;\n",
    "    font-size: 16px;\n",
    "    width: 160px;\n",
    "    text-align: center;\n",
    "    cursor: pointer;\n",
    "    text-decoration: none;\n",
    "  }\n",
    "  .bottom-btn {\n",
    "    margin-top: auto; /* Pushes the Terms button to the bottom */\n",
    "  }\n",
    "  .sidebar-btn:hover {\n",
    "    background-color: #1E1E1E;\n",
    "    transform: scale(1.05);\n",
    "  }\n",
    "  .sidebar-btn.active {\n",
    "    background-color: #333;\n",
    "    font-weight: bold;\n",
    "  }\n",
    "</style>  \n"
   ]
  },
  {
   "cell_type": "markdown",
   "metadata": {},
   "source": [
    "## Call/Request to the Method (Algorithm)\n",
    "<p>\n",
    "When a user interacts with the interface (e.g., changing the category, adding, updating, or deleting a cool fact), the JavaScript code sends an HTTP request to a Flask backend API.</p>"
   ]
  },
  {
   "cell_type": "markdown",
   "metadata": {},
   "source": [
    "## fetchCoolFacts() function (GET request):\n",
    "<p>The function fetches cool facts by calling the endpoint: GET /api/coolfact?category=selectedCategory.</p>\n"
   ]
  },
  {
   "cell_type": "markdown",
   "metadata": {},
   "source": [
    "## Algorithm:\n",
    "<p>Get the selected category value from the dropdown.\n",
    "<br>\n",
    "Build the GET request URL using that category.\n",
    "<br>\n",
    "Send the request to the backend API using fetch.\n",
    "<br>\n",
    "Handle the response when the request succeeds or fails.</p>"
   ]
  },
  {
   "cell_type": "markdown",
   "metadata": {},
   "source": [
    "## addCoolFact() function (POST request):\n",
    "<p>\n",
    "The user provides a new cool fact, then clicks a button to add it.\n",
    "The function sends the new cool fact data to the backend using a POST request to the endpoint: POST /api/coolfacts.</p>"
   ]
  },
  {
   "cell_type": "markdown",
   "metadata": {},
   "source": [
    "## Algorithm\n",
    "<p>Retrieve the new cool fact's content and category from the input fields.\n",
    "<br>\n",
    "Prepare the request body as a JSON object ({ name: coolFactName, category: category }).\n",
    "<br>\n",
    "Send the POST request to the backend API.\n",
    "<br>\n",
    "If the request is successful, alert the user and refresh the cool facts list.</p>"
   ]
  },
  {
   "cell_type": "markdown",
   "metadata": {},
   "source": [
    "## updateCoolFact() function (PUT request):\n",
    "<p>\n",
    "The user provides the name of the cool fact to be updated and the new content.\n",
    "The function sends the update data to the backend using a PUT request to the endpoint: PUT /api/coolfact.</p>"
   ]
  },
  {
   "cell_type": "markdown",
   "metadata": {},
   "source": [
    "## Algorithm\n",
    "<p>Retrieve the old cool fact content, new content, and category from the input fields.\n",
    "<br>\n",
    "Prepare the request body as a JSON object ({ old_name, name, category }).\n",
    "<br>\n",
    "Send the PUT request to the backend API.\n",
    "<br>\n",
    "If successful, alert the user and refresh the cool facts list.</p>"
   ]
  },
  {
   "cell_type": "markdown",
   "metadata": {},
   "source": [
    "## deleteCoolFact() function (DELETE request):\n",
    "<p>\n",
    "The user provides the cool fact content and category to delete.\n",
    "<br>\n",
    "The function sends the deletion data to the backend using a DELETE request to the endpoint: DELETE /api/coolfact.</p>"
   ]
  },
  {
   "cell_type": "markdown",
   "metadata": {},
   "source": [
    "## Algorithm: \n",
    "<p>Retrieve the cool fact content and category from the input fields.\n",
    "<br>\n",
    "Prepare the request body as a JSON object ({ name, category }).\n",
    "<br>\n",
    "Send the DELETE request to the backend API.\n",
    "<br>\n",
    "If successful, alert the user and refresh the cool facts list.</p>"
   ]
  },
  {
   "cell_type": "markdown",
   "metadata": {},
   "source": [
    "\n",
    "\n",
    "\n",
    "\n",
    "## 2. Return/Response from the Method (Algorithm) and Data Handling  \n",
    "\n",
    "After each request is made, the API responds with data, and the front-end handles it appropriately.  \n",
    "\n",
    "### fetchCoolFacts() (GET):  \n",
    "**Return Type:** The response will be a JSON object with a list of cool_facts from the requested category, e.g.,  \n",
    "`{ \"category\": \"science\", \"cool_facts\": [\"The Sun is a star\", \"Water expands when frozen\"] }`.  \n",
    "**Handling Data:** The JSON response is parsed, and the cool_facts are extracted and displayed as list items in the DOM.  \n",
    "\n",
    "### addCoolFact() (POST):  \n",
    "**Return Type:** If successful, the response is a JSON object like  \n",
    "`{ \"message\": \"Cool fact created\", \"cool_fact\": \"Bananas are berries\", \"category\": \"botany\" }`.  \n",
    "**Handling Data:** The success message is displayed as an alert, and the input fields are cleared. The cool_facts list is then refreshed by calling `fetchCoolFacts()`.  \n",
    "\n",
    "### updateCoolFact() (PUT):  \n",
    "**Return Type:** If successful, the response is a JSON object like  \n",
    "`{ \"message\": \"Cool fact updated\", \"old_fact\": \"Bananas are berries\", \"new_fact\": \"Strawberries are not berries\" }`.  \n",
    "**Handling Data:** The success message is displayed as an alert, and the input fields are cleared. The cool_facts list is then refreshed by calling `fetchCoolFacts()`.  \n",
    "\n",
    "### deleteCoolFact() (DELETE):  \n",
    "**Return Type:** If successful, the response is a JSON object like  \n",
    "`{ \"message\": \"Cool fact deleted\", \"fact\": \"Strawberries are not berries\" }`.  \n",
    "**Handling Data:** The success message is displayed as an alert, and the input fields are cleared. The cool_facts list is then refreshed by calling `fetchCoolFacts()`.  \n",
    "\n",
    "## 3. Changing Data or Method Triggers Different Responses (Normal and Error Conditions)  \n",
    "\n",
    "### Normal Conditions:  \n",
    "When the backend API processes a valid request successfully, the response is a success message with the relevant data.  \n",
    "\n",
    "#### Example:  \n",
    "- **Adding a cool_fact:** `{ \"message\": \"Cool fact created\", \"cool_fact\": \"Bananas are berries\", \"category\": \"botany\" }`.  \n",
    "- **Updating a cool_fact:** `{ \"message\": \"Cool fact updated\", \"old_fact\": \"Bananas are berries\", \"new_fact\": \"Strawberries are not berries\" }`.  \n",
    "- **Deleting a cool_fact:** `{ \"message\": \"Cool fact deleted\", \"fact\": \"Strawberries are not berries\" }`.  \n",
    "\n",
    "In these cases, the response is handled successfully, and the data is used to update the UI (e.g., refreshing the cool_facts list).  \n",
    "\n",
    "### Error Conditions:  \n",
    "If there is an issue with the request (e.g., missing data, invalid category), the API will return a failure message with an error status.  \n",
    "\n",
    "#### Example:  \n",
    "- **Invalid cool_fact name:** `{ \"message\": \"Cool fact name and category are required\" }`.  \n",
    "- **Invalid category:** `{ \"message\": \"Category not found\" }`.  \n",
    "\n",
    "In these cases, the error message is displayed to the user via an alert, and the UI remains unchanged.  \n",
    "\n",
    "### Example of Changing Data/Method Triggering Different Responses:  \n",
    "\n",
    "#### 1. Normal Condition:  \n",
    "A user adds a cool_fact, and the backend returns  \n",
    "`{ \"message\": \"Cool fact created\", \"cool_fact\": \"Bananas are berries\", \"category\": \"botany\" }`.  \n",
    "The cool_fact is added successfully, and the cool_facts list is refreshed.  \n",
    "\n",
    "#### 2. Error Condition:  \n",
    "A user tries to add a cool_fact without a name or category.  \n",
    "The backend returns `{ \"message\": \"Cool fact name and category are required\" }`.  \n",
    "The user is alerted with the error message, and no changes are made to the cool_facts list.  \n"
   ]
  }
 ],
 "metadata": {
  "kernelspec": {
   "display_name": "Python 3 (ipykernel)",
   "language": "python",
   "name": "python3"
  },
  "language_info": {
   "codemirror_mode": {
    "name": "ipython",
    "version": 3
   },
   "file_extension": ".py",
   "mimetype": "text/x-python",
   "name": "python",
   "nbconvert_exporter": "python",
   "pygments_lexer": "ipython3",
   "version": "3.10.12"
  }
 },
 "nbformat": 4,
 "nbformat_minor": 2
}
