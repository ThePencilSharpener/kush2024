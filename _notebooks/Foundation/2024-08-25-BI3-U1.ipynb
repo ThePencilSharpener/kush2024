{
 "cells": [
  {
   "cell_type": "raw",
   "id": "ad03bc01",
   "metadata": {
    "vscode": {
     "languageId": "raw"
    }
   },
   "source": [
    "---\n",
    "layout: post\n",
    "title: Big Idea 3 Unit 1\n",
    "permalink: /BI3-U1/\n",
    "type: issues \n",
    "---"
   ]
  },
  {
   "cell_type": "markdown",
   "id": "8e7d9a85",
   "metadata": {},
   "source": [
    "## 🧠 Big Idea 3 - Unit 1  \n",
    "📅 *October 11, 2024*\n",
    "\n",
    "### Summary  \n",
    "This lesson introduces core programming concepts like variables, naming conventions, and basic data types in both Python and JavaScript. Key data types include:\n",
    "\n",
    "- **String** – text within quotes (e.g., `\"Hello\"`)\n",
    "- **Integer** – whole numbers (e.g., `7`)\n",
    "- **Float** – decimal numbers (e.g., `7.5`)\n",
    "- **Boolean** – true or false values (`True`, `False`)\n",
    "- **Array / List** – collections of values (`[1, 2, 3]`)\n",
    "- **Object / Dictionary** – key-value pairs (e.g., `{\"name\": \"Kush\"}`)\n",
    "\n",
    "The lesson also compares different variable naming conventions: `snake_case`, `camelCase`, and `PascalCase`.\n",
    "\n",
    "Scroll down to view coding examples and homework!\n"
   ]
  },
  {
   "cell_type": "code",
   "execution_count": null,
   "id": "93b3e6c4",
   "metadata": {},
   "outputs": [],
   "source": [
    "# String & Integer variables\n",
    "subject = \"Math\"\n",
    "birthday = \"August 38th\"\n",
    "favoriteNumber = 7\n",
    "\n",
    "# Boolean values\n",
    "cold = False\n",
    "busy = True\n",
    "print(cold)  # False\n",
    "print(busy)  # True\n",
    "\n",
    "# Dictionary with a list\n",
    "my_stuff = {\n",
    "    'name': \"Soumini\",\n",
    "    'age': 14,\n",
    "    'subjects': ['Math', 'Chemistry', 'CSP', 'English', 'History'],\n",
    "}\n",
    "print(my_stuff)\n"
   ]
  },
  {
   "cell_type": "code",
   "execution_count": null,
   "id": "31fcbc7f",
   "metadata": {},
   "outputs": [],
   "source": [
    "name = \"Soumini\"\n",
    "age = 14\n",
    "favorite_number = 7.0\n",
    "favorite_food = \"none\"         # snake_case\n",
    "FavoriteHobby = \"reading\"      # PascalCase\n",
    "favoriteColor = \"all colors but mostly purple\"  # camelCase\n",
    "\n",
    "myList = [name, age, favorite_number]\n",
    "\n",
    "me = {\n",
    "    'name': name,\n",
    "    'age': age,\n",
    "    'favorite_number': favorite_number\n",
    "}\n"
   ]
  },
  {
   "cell_type": "code",
   "execution_count": null,
   "id": "7cb32b60",
   "metadata": {
    "vscode": {
     "languageId": "javascript"
    }
   },
   "outputs": [],
   "source": [
    "// Variables\n",
    "let fav_subject = \"math\";\n",
    "let hobby = \"reading\";\n",
    "let number = 7;\n",
    "\n",
    "// Object\n",
    "var event = {\n",
    "    date: \"September 36th\",\n",
    "    time: \"4 pm\",\n",
    "    thing: \"Birthday Party\",\n",
    "    location: \"Saturn the Planet\",\n",
    "    participants: 30,\n",
    "};\n",
    "console.log(event);\n",
    "\n",
    "// Concatenation and math\n",
    "let first = 61409;\n",
    "let second = 90709;\n",
    "console.log(first + second);  // Adds numbers\n",
    "\n",
    "let one = \"I don't like \";\n",
    "let two = \"bell peppers\";\n",
    "console.log(one + two);  // Combines strings\n"
   ]
  },
  {
   "cell_type": "code",
   "execution_count": null,
   "id": "205e2a1e",
   "metadata": {
    "vscode": {
     "languageId": "javascript"
    }
   },
   "outputs": [],
   "source": [
    "let name = \"Soumini\";\n",
    "let age = 14;\n",
    "let favorite_number = 7.0;\n",
    "\n",
    "let favorite_food = \"none\";\n",
    "let FavoriteHobby = \"reading\";\n",
    "let favoriteColor = \"all colors but mostly purple\";\n",
    "\n",
    "let myList = ['Soumini', 14, 7];\n",
    "\n",
    "let me = {\n",
    "    'name': 'Soumini',\n",
    "    'age': age,\n",
    "    'favorite_number': favorite_number\n",
    "};\n"
   ]
  }
 ],
 "metadata": {
  "language_info": {
   "name": "python"
  }
 },
 "nbformat": 4,
 "nbformat_minor": 5
}
