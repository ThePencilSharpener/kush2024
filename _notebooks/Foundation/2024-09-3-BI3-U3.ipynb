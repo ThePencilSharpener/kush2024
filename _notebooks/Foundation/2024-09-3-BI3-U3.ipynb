{
 "cells": [
  {
   "cell_type": "raw",
   "id": "edd58117",
   "metadata": {
    "vscode": {
     "languageId": "raw"
    }
   },
   "source": [
    "---\n",
    "layout: post\n",
    "title: Big Idea 3 Unit 3\n",
    "permalink: /BI3-U3/\n",
    "type: issues \n",
    "---"
   ]
  },
  {
   "cell_type": "markdown",
   "id": "791e6dad",
   "metadata": {},
   "source": [
    "## Big Idea 3 - Unit 3  \n",
    "📅 *October 11, 2024*\n",
    "\n",
    "### 🧮 Summary  \n",
    "This unit was taught by my group and focused on **mathematical operators** in Python and JavaScript. These operators are essential for performing calculations in code.\n",
    "\n",
    "**Operators Covered:**\n",
    "- Addition: `a + b`\n",
    "- Subtraction: `a - b`\n",
    "- Multiplication: `a * b`\n",
    "- Division: `a / b`\n",
    "- Exponents: `a ** b`\n",
    "- Modulus (remainder): `a % b` (Python & JS)\n",
    "- Floor Division (rounds down):\n",
    "  - Python: `a // b`\n",
    "  - JavaScript: `Math.floor(a / b)`\n",
    "\n",
    "<a href=\"https://nighthawkcoders.github.io/portfolio_2025/csp/big-idea/p5/3-3-1\">Click here to view our page</a>\n"
   ]
  }
 ],
 "metadata": {
  "language_info": {
   "name": "python"
  }
 },
 "nbformat": 4,
 "nbformat_minor": 5
}
