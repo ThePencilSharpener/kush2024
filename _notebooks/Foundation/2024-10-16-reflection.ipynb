{
 "cells": [
  {
   "cell_type": "raw",
   "id": "899b478a",
   "metadata": {
    "vscode": {
     "languageId": "raw"
    }
   },
   "source": [
    "---\n",
    "layout: post\n",
    "title: Homework and Hacks taught\n",
    "description:  Homework\n",
    "type: post\n",
    "toc: True\n",
    "permalink: /reflection\n",
    "comments: true\n",
    "---"
   ]
  },
  {
   "cell_type": "markdown",
   "id": "452b243c",
   "metadata": {
    "vscode": {
     "languageId": "html"
    }
   },
   "source": [
    "<h1>Homework for 3.1 Javascript</h1>\n",
    "<p>let gog = \"kush\";</p>\n",
    "<p>let age = 15;</p>\n",
    "<p>let float = 555.555;</p>\n",
    "<p>let fav_food = \"sushi\";</p>\n",
    "<p>let FavHooby = \"soccer\";</p>\n",
    "<p>let favcolor = \"blue\";</p>\n",
    "<p>let urmom = [\"kush kahria\", 15, 555.555];</p>\n",
    "<p>let urohtermom = {</p>\n",
    "<p>    name: \"kushkhari\",</p>\n",
    "<p>    age: 15,</p>\n",
    "<p>    favorite_number: 555.555,</p> \n",
    "<p>}</p>"
   ]
  },
  {
   "cell_type": "markdown",
   "id": "7ea34ac1",
   "metadata": {},
   "source": [
    "<h1>3.1 Hwork Python</h1>\n",
    "<p># Create 3 Variables\n",
    "my_name = \"John\"              # String Variable\n",
    "<br>\n",
    "my_age = 30                   # Integer Variable\n",
    "<br>\n",
    "my_favorite_number = 7.5      # Float Variable\n",
    "<br>\n",
    "favorite_food = \"Pizza\"       # snake_case\n",
    "<br>\n",
    "FavoriteHobby = \"Reading\"      # PascalCase\n",
    "<br>\n",
    "favorite_color = \"Blue\"        # camelCase\n",
    "<br>\n",
    "my_list = [my_name, my_age, my_favorite_number]  # List\n",
    "<br>\n",
    "my_dictionary = {                # Dictionary\n",
    "<br>    \"name\": my_name,\n",
    "<br>    \"age\": my_age,\n",
    "<br>    \"favorite_number\": my_favorite_number\n",
    "<br>}\n",
    "<br>\n",
    "print(my_list)\n",
    "<br>\n",
    "print(my_dictionary)</p>"
   ]
  },
  {
   "cell_type": "markdown",
   "id": "fd1f5fff",
   "metadata": {
    "vscode": {
     "languageId": "raw"
    }
   },
   "source": [
    "<h1>3.1 Hacks python</h1>\n",
    "<p>urmom = len(\"Kharia)\n",
    "<br>\n",
    "print(urmom)\n",
    "<br>\n",
    "urothermom = \"Kush\" + \"Kharia\"\n",
    "<br>\n",
    "print(urothermom)\n",
    "<br>\n",
    "urnotsofather = urothermom[2:6]\n",
    "<br>\n",
    "print(urnotsofather)</p>"
   ]
  },
  {
   "cell_type": "markdown",
   "id": "4ab1704d",
   "metadata": {},
   "source": [
    "<h1>3.1 Hacks Javascript</h1>\n",
    "<p>let urmom = \"Kharia\".length;\n",
    "<br>\n",
    "console.log(urmom);\n",
    "<br>\n",
    "let urothermom = \"Kush\" + \"Kharia\";\n",
    "<br>\n",
    "console.log(urothermom);\n",
    "<br>\n",
    "let urnotsofather = urothermom.slice(2, 6);\n",
    "<br>\n",
    "console.log(urnotsofather);</p>\n"
   ]
  },
  {
   "cell_type": "markdown",
   "id": "ab80273c",
   "metadata": {},
   "source": [
    "<h1>3.2 Hack Javascript</h1>\n",
    "<p>let isSunny = true;\n",
    "<br>\n",
    "console.log(isSunny); // -> true\n",
    "<br>\n",
    "isSunny = false;\n",
    "<br>\n",
    "console.log(isSunny); // -> false</p>"
   ]
  },
  {
   "cell_type": "markdown",
   "id": "0bd41346",
   "metadata": {},
   "source": [
    "<h1>3.2 Hack</h1>\n",
    "<p>import json<br>\n",
    "\n",
    "<br>\n",
    "ferrari_f8 = {<br>\n",
    "    \"name\": \"Ferrari F8\",<br>\n",
    "    \"performance\": {<br>\n",
    "        \"engine\": \"3.9-liter V8\",<br>\n",
    "        \"horsepower\": 710,<br>\n",
    "        \"acceleration\": \"0 to 100 km/h in 2.9 seconds\",<br>\n",
    "        \"top_speed\": \"over 340 km/h\"<br>\n",
    "    },<br>\n",
    "    \"features\": {<br>\n",
    "        \"aerodynamics\": \"enhanced\",<br>\n",
    "        \"stability_technologies\": \"state-of-the-art\",<br>\n",
    "        \"stability_control\": \"outstanding during high-speed maneuvers\"<br>\n",
    "    },<br>\n",
    "    \"pricing\": {<br>\n",
    "        \"original_price\": \"$250,000\",<br>\n",
    "        \"production_run\": 10,<br>\n",
    "        \"rarity\": \"exclusive among supercar collectors\"<br>\n",
    "    }<br>\n",
    "}<br>\n",
    "\n",
    "\n",
    "json_string = json.dumps(ferrari_f8)<br>\n",
    "\n",
    "print(json_string)<br></p>"
   ]
  },
  {
   "cell_type": "markdown",
   "id": "a7f846be",
   "metadata": {},
   "source": [
    "<h1>3.2 Nolan Assignment Javascript</h1>\n",
    "<p>// Create a dictionary (object) with different types of variables<br>\n",
    "let carInfo = {<br>\n",
    "    name: \"Tesla Model S\",<br>\n",
    "    performance: {<br>\n",
    "        engine: \"Electric\",<br>\n",
    "        horsepower: 1020,<br>\n",
    "        acceleration: \"0 to 60 mph in 1.99 seconds\",<br>\n",
    "        topSpeed: \"200 mph\"<br>\n",
    "    },<br>\n",
    "    features: {<br>\n",
    "        aerodynamics: \"streamlined\",<br>\n",
    "        stabilityTechnologies: [\"autopilot\", \"traction control\", \"adaptive suspension\"]<br>\n",
    "    }<br>\n",
    "};<br>\n",
    "\n",
    "// Change keys in the object and in the list<br>\n",
    "carInfo.modelName = carInfo.name; // Changing 'name' to 'modelName'<br>\n",
    "delete carInfo.name; // Deleting the old key<br>\n",
    "\n",
    "carInfo.features.stabilityTechnologies[0] = \"full self-driving\"; // Changing a key in the list<br>\n",
    "\n",
    "// Convert the object to JSON<br>\n",
    "let jsonString = JSON.stringify(carInfo);<br>\n",
    "\n",
    "// Log the JSON string<br>\n",
    "console.log(jsonString);<br>\n",
    "</p>"
   ]
  },
  {
   "cell_type": "markdown",
   "id": "0b0e4aaa",
   "metadata": {},
   "source": [
    "<h1>3.2 Homework Javascript</h1>\n",
    "<p>let bookData = `{\n",
    "    \"title\": \"The Great Gatsby\",\n",
    "    \"author\": \"F. Scott Fitzgerald\",\n",
    "    \"published_year\": 1925,\n",
    "    \"genres\": [\"Fiction\", \"Classic\", \"Literature\"],\n",
    "    \"available\": true,\n",
    "    \"ratings\": {\n",
    "        \"average\": 4.5,\n",
    "        \"reviews\": 1200\n",
    "    }\n",
    "}`;<br>\n",
    "\n",
    "// Load the JSON data<br>\n",
    "let book = JSON.parse(bookData);<br>\n",
    "\n",
    "// Edit the JSON data<br>\n",
    "book.title = \"The Great Gatsby (Revised Edition)\"; // String<br>\n",
    "book.published_year = 2023; // Integer<br>\n",
    "book.genres.push(\"American Literature\"); // List<br>\n",
    "book.available = false; // Boolean<br>\n",
    "book.ratings.average = 4.7; // Float<br>\n",
    "\n",
    "// Convert back to JSON<br>\n",
    "let updatedJson = JSON.stringify(book, null, 4);<br>\n",
    "console.log(updatedJson);<br></p>"
   ]
  },
  {
   "cell_type": "markdown",
   "id": "942e060d",
   "metadata": {},
   "source": [
    "<h1>3.2 Homework Python</h1>\n",
    "<p>import json<br>\n",
    "\n",
    "# Sample JSON data<br>\n",
    "book_data = '''<br>\n",
    "{<br>\n",
    "    \"title\": \"The Great Gatsby\",<br>\n",
    "    \"author\": \"F. Scott Fitzgerald\",<br>\n",
    "    \"published_year\": 1925,<br>\n",
    "    \"genres\": [\"Fiction\", \"Classic\", \"Literature\"],<br>\n",
    "    \"available\": true,<br>\n",
    "    \"ratings\": {<br>\n",
    "        \"average\": 4.5,<br>\n",
    "        \"reviews\": 1200<br>\n",
    "    }<br>\n",
    "}<br>\n",
    "'''<br>\n",
    "\n",
    "# Load the JSON data<br>\n",
    "book = json.loads(book_data)<br>\n",
    "\n",
    "# Edit the JSON data<br>\n",
    "book[\"title\"] = \"The Great Gatsby (Revised Edition)\"  # String<br>\n",
    "book[\"published_year\"] = 2023  # Integer<br>\n",
    "book[\"genres\"].append(\"American Literature\")  # List<br>\n",
    "book[\"available\"] = False  # Boolean<br>\n",
    "book[\"ratings\"][\"average\"] = 4.7  # Float<br>\n",
    "\n",
    "# Convert back to JSON<br>\n",
    "updated_json = json.dumps(book, indent=4)<br>\n",
    "print(updated_json)<br></p>"
   ]
  },
  {
   "cell_type": "markdown",
   "id": "0203c8cc",
   "metadata": {},
   "source": [
    "My group did 3.3 and 3.5 which was Mathematical Operators and Boleans respectivly"
   ]
  },
  {
   "cell_type": "markdown",
   "id": "9be67562",
   "metadata": {},
   "source": [
    "I have been preparing for the college board exam by having a deeper understanding of mathematical operators and boleans through the presentation we had to do. I have made separate areas on my blog relating to each of the lessons taught to me by others and have summaries about each lesson, the homework, and the popcorn hacks for the specified lesson."
   ]
  },
  {
   "cell_type": "markdown",
   "id": "5909ace2",
   "metadata": {
    "vscode": {
     "languageId": "raw"
    }
   },
   "source": [
    "A highlight of our presentation was our use of analogies to explain difficult topics and the choice to do\n",
    "optional quizes if further understanding and learning was needed. My contribution to the presentation was that I designed the 3.3 lessons plan and me and ahmad worked on the hacks for 3.3 together."
   ]
  },
  {
   "cell_type": "markdown",
   "id": "0d3b3194",
   "metadata": {
    "vscode": {
     "languageId": "raw"
    }
   },
   "source": [
    "something impactful i learned from another group was how to make a list in python which was presented by Nolan's\n",
    "group. Lists are helpful in college board because they help store lots of information in a single line without usng multiple variables and you can edit and move around things in a list"
   ]
  },
  {
   "cell_type": "markdown",
   "id": "734da88a",
   "metadata": {
    "vscode": {
     "languageId": "raw"
    }
   },
   "source": [
    "By intentionally focusing on strengthening my foundational understanding rather than relying on ChatGPT for coding, I was able to make this sprint on Big Ideas uniquely my own. We established themes that adhered to the guidelines of our notebook, ensuring our work didn’t overlap with Mr. Mort’s. Additionally, we developed engaging quizzes that would captivate our audience during the presentations!"
   ]
  },
  {
   "cell_type": "markdown",
   "id": "dab64acc",
   "metadata": {},
   "source": [
    "<h1>Blog Your Experiences</h1>\n"
   ]
  }
 ],
 "metadata": {
  "kernelspec": {
   "display_name": "Python 3 (ipykernel)",
   "language": "python",
   "name": "python3"
  },
  "language_info": {
   "codemirror_mode": {
    "name": "ipython",
    "version": 3
   },
   "file_extension": ".py",
   "mimetype": "text/x-python",
   "name": "python",
   "nbconvert_exporter": "python",
   "pygments_lexer": "ipython3",
   "version": "3.10.12"
  }
 },
 "nbformat": 4,
 "nbformat_minor": 5
}
