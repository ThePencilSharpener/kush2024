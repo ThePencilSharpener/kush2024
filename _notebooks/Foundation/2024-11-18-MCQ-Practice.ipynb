{
 "cells": [
  {
   "cell_type": "raw",
   "id": "c45e6dd2",
   "metadata": {
    "vscode": {
     "languageId": "raw"
    }
   },
   "source": [
    "---\n",
    "layout: post\n",
    "title: MCQ College Board\n",
    "description: MCQ college board\n",
    "type: issues \n",
    "comments: true\n",
    "---"
   ]
  },
  {
   "cell_type": "markdown",
   "id": "bf30e757",
   "metadata": {},
   "source": [
    "<p>A: What I learned from this quiz is how to read psuedocode properly and understand the different symbols within it. I also learned a lot about logic gates and how they can be used to simply represent an idea or code.</p>\n",
    "<p>B: I am weak in understanding and remembering the vocab terms presented to us.</p>\n",
    "<p> Q65: Answer is B and D</p>\n",
    "<p> Q64: Answer is B and C</p>\n",
    "<p> Q63: Answer is Line 4 and Line 9</p>\n",
    "<p> Q58: Answer is A</p>\n",
    "<p> Q48: Answer is D</p>\n",
    "<p> Q43: Answer is A</p>\n",
    "<p> Q42: Answer is D</p>\n",
    "<p> Q37: Answer is C</p>\n",
    "<p> Q17: Answer is D</p>\n",
    "<p> Q14: Answer is D</p>"
   ]
  }
 ],
 "metadata": {
  "kernelspec": {
   "display_name": "Python 3 (ipykernel)",
   "language": "python",
   "name": "python3"
  },
  "language_info": {
   "codemirror_mode": {
    "name": "ipython",
    "version": 3
   },
   "file_extension": ".py",
   "mimetype": "text/x-python",
   "name": "python",
   "nbconvert_exporter": "python",
   "pygments_lexer": "ipython3",
   "version": "3.10.12"
  }
 },
 "nbformat": 4,
 "nbformat_minor": 5
}
