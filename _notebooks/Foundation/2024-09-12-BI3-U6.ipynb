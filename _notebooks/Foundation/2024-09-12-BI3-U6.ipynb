{
 "cells": [
  {
   "cell_type": "raw",
   "id": "bfb7f004",
   "metadata": {
    "vscode": {
     "languageId": "raw"
    }
   },
   "source": [
    "---\n",
    "layout: post\n",
    "title: Big Idea 3 Unit 6\n",
    "permalink: /BI3-U6/\n",
    "type: issues \n",
    "---"
   ]
  },
  {
   "cell_type": "markdown",
   "id": "da721e31",
   "metadata": {},
   "source": [
    "# Big Idea 3 Unit 6  \n",
    "*Oct 11, 2024 • 1 min read*\n",
    "\n",
    "---\n",
    "\n",
    "## Summary  \n",
    "Nested conditionals are conditionals placed inside other conditionals. They help handle multiple layers of decision-making when there are several possible scenarios.\n",
    "\n",
    "---\n",
    "\n",
    "## Example 1: Choosing an iPhone Based on Budget\n",
    "\n",
    "```python\n",
    "budget = 1100  \n",
    "\n",
    "iphone_15_price = 1204\n",
    "iphone_12_price = 1099\n",
    "iphone_10_price = 807\n",
    "\n",
    "if budget >= iphone_15_price:\n",
    "    print(\"You can buy an iPhone 15!\")\n",
    "elif budget >= iphone_12_price:\n",
    "    print(\"You can buy an iPhone 12!\")\n",
    "elif budget >= iphone_10_price:\n",
    "    print(\"You can buy an iPhone 10!\")\n",
    "else:\n",
    "    print(\"You don't have enough money to buy an iPhone.\")\n"
   ]
  },
  {
   "cell_type": "code",
   "execution_count": null,
   "id": "55e185d6",
   "metadata": {},
   "outputs": [],
   "source": [
    "has_flour = True\n",
    "has_sugar = True\n",
    "has_eggs = True\n",
    "has_milk = False\n",
    "has_baking_powder = True\n",
    "has_vanilla_extract = True\n",
    "\n",
    "if has_flour and has_sugar:\n",
    "    print(\"You have the basic ingredients.\")\n",
    "    \n",
    "    if has_eggs:\n",
    "        print(\"You can make a basic cake batter.\")\n",
    "\n",
    "        if has_milk:\n",
    "            print(\"Great! The cake will be moist.\")\n",
    "        else:\n",
    "            print(\"You don't have milk, the cake might be a bit dry.\")\n",
    "        \n",
    "        if has_baking_powder:\n",
    "            print(\"Your cake will rise perfectly.\")\n",
    "        else:\n",
    "            print(\"Without baking powder, the cake might not rise.\")\n",
    "        \n",
    "        if has_vanilla_extract:\n",
    "            print(\"The cake will have a nice vanilla flavor.\")\n",
    "        else:\n",
    "            print(\"No vanilla extract, the flavor will be more basic.\")\n",
    "    else:\n",
    "        print(\"You can't bake a cake without eggs.\")\n",
    "else:\n",
    "    print(\"You don't have enough ingredients to bake a cake.\")\n"
   ]
  },
  {
   "cell_type": "code",
   "execution_count": null,
   "id": "3c1859b6",
   "metadata": {},
   "outputs": [],
   "source": [
    "hot = False\n",
    "mid = True\n",
    "cold = True\n",
    "foggy = False\n",
    "rainy = True\n",
    "thunderstormy = False\n",
    "\n",
    "if not hot and mid:\n",
    "    print(\"It's decent weather.\")\n",
    "    \n",
    "    if cold:\n",
    "        print(\"Cold weather is better weather\")\n",
    "\n",
    "        if foggy:\n",
    "            print(\"Foggy weather is great weather\")\n",
    "        else:\n",
    "            print(\"Unfortunately it's not foggy\")\n",
    "        \n",
    "        if rainy:\n",
    "            print(\"Rainy weather is wonderful weather! Be happy.\")\n",
    "        else:\n",
    "            print(\"Unfortunately, it's not rainy\")\n",
    "        \n",
    "        if thunderstormy:\n",
    "            print(\"It's thunderstormy!! Thunderstorms are so fun.\")\n",
    "        else:\n",
    "            print(\"Aww, it's not thunderstormy.\")\n",
    "    else:\n",
    "        print(\"Aww it's just meh weather\")\n",
    "else:\n",
    "    print(\"Bad weather. Bad bad bad bad weather.\")\n"
   ]
  }
 ],
 "metadata": {
  "language_info": {
   "name": "python"
  }
 },
 "nbformat": 4,
 "nbformat_minor": 5
}
