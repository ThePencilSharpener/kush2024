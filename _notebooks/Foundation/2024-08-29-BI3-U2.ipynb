{
 "cells": [
  {
   "cell_type": "raw",
   "id": "1fb39163",
   "metadata": {
    "vscode": {
     "languageId": "raw"
    }
   },
   "source": [
    "---\n",
    "layout: post\n",
    "title: Big Idea 3 Unit 2\n",
    "permalink: /BI3-U2/\n",
    "type: issues \n",
    "---"
   ]
  },
  {
   "cell_type": "markdown",
   "id": "6fe314a6",
   "metadata": {},
   "source": [
    "## Big Idea 3 - Unit 2  \n",
    "📅 *October 11, 2024*\n",
    "\n",
    "### 📝 Summary  \n",
    "This lesson expands on variable types introduced earlier and introduces JSON (JavaScript Object Notation), a format commonly used for storing and exchanging data.\n",
    "\n",
    "**Core Data Types:**\n",
    "- `String`: text in quotes (`\"hello\"`)\n",
    "- `Integer`: whole numbers (`42`)\n",
    "- `Float`: decimal numbers (`3.14`)\n",
    "- `Boolean`: `True` / `False`\n",
    "- `Array/List`: ordered collections of items\n",
    "- `Object/Dictionary`: key-value pairs\n",
    "\n",
    "**What is JSON?**  \n",
    "JSON is a lightweight data format, similar to Python dictionaries or JavaScript objects. It’s used for sending structured data, especially in APIs.\n",
    "\n",
    "Scroll down for Python and JavaScript examples + a JSON-based homework exercise.\n"
   ]
  },
  {
   "cell_type": "code",
   "execution_count": null,
   "id": "e01a29fd",
   "metadata": {},
   "outputs": [],
   "source": [
    "import json\n",
    "\n",
    "honda_civic = {\n",
    "    \"name\": \"Honda Civic\",\n",
    "    \"performance\": {\n",
    "        \"engine\": \"2.0-liter 4-cylinder\",\n",
    "        \"horsepower\": 158,\n",
    "        \"top_speed\": \"200 km/h\",\n",
    "        \"acceleration\": \"0 to 100 km/h in 8.2 seconds\"\n",
    "    },\n",
    "    \"features\": {\n",
    "        \"driving_assistance\": \"Honda Sensing suite with adaptive cruise control and lane-keeping assist\",\n",
    "        \"exterior\": \"modern, aerodynamic design\",\n",
    "        \"interior\": \"spacious with durable cloth or optional leather seats\"\n",
    "    },\n",
    "    \"pricing\": {\n",
    "        \"original_price\": \"$24,000\",\n",
    "        \"production_run\": \"ongoing\",\n",
    "        \"rarity\": \"widely available\"\n",
    "    }\n",
    "}\n",
    "\n",
    "# Convert Python dictionary to JSON string\n",
    "jsonstring = json.dumps(honda_civic, indent=2)\n",
    "print(jsonstring)\n"
   ]
  },
  {
   "cell_type": "code",
   "execution_count": null,
   "id": "4cb24216",
   "metadata": {},
   "outputs": [],
   "source": [
    "import requests\n",
    "\n",
    "url = \"https://jsonplaceholder.typicode.com/posts\"\n",
    "response = requests.get(url)\n",
    "\n",
    "if response.status_code == 200:\n",
    "    data = response.json()  # Convert response to JSON\n",
    "    print(\"Original Data:\", data[0])  # Preview the first post\n",
    "\n",
    "    # Modify data\n",
    "    data[0][\"title\"] = \"yay\"                  # String\n",
    "    data[0][\"likes\"] = 0                      # Integer\n",
    "    data[0][\"rating\"] = 3.5                   # Float\n",
    "    data[0][\"tags\"] = [\"fun\", \"more fun\"]     # List\n",
    "    data[0][\"is_active\"] = True               # Boolean\n",
    "\n",
    "    print(\"\\nModified Data for Post ID 1:\")\n",
    "    print(data[0])\n",
    "else:\n",
    "    print(\"Failed to retrieve data\")\n"
   ]
  },
  {
   "cell_type": "code",
   "execution_count": null,
   "id": "fbd8885e",
   "metadata": {
    "vscode": {
     "languageId": "javascript"
    }
   },
   "outputs": [],
   "source": [
    "let response1 = true;\n",
    "console.log(\"A squirrel will steal your button: \" + response1);\n",
    "\n",
    "let response2 = false;\n",
    "console.log(\"You will be judged by a talking potato with googly eyes: \" + response2);\n"
   ]
  },
  {
   "cell_type": "code",
   "execution_count": null,
   "id": "aef8f8be",
   "metadata": {
    "vscode": {
     "languageId": "javascript"
    }
   },
   "outputs": [],
   "source": [
    "async function fetchAndModifyData() {\n",
    "    const url = \"https://jsonplaceholder.typicode.com/posts\";\n",
    "\n",
    "    try {\n",
    "        const response = await fetch(url);\n",
    "        if (response.ok) {\n",
    "            const data = await response.json();\n",
    "            console.log(\"Original Data:\", data[0]);\n",
    "\n",
    "            // Modify fields\n",
    "            data[0].title = \"yay\";\n",
    "            data[0].likes = 0;\n",
    "            data[0].rating = 3.5;\n",
    "            data[0].tags = [\"fun\", \"more fun\"];\n",
    "            data[0].is_active = true;\n",
    "\n",
    "            console.log(\"\\nModified Data for Post ID 1:\");\n",
    "            console.log(data[0]);\n",
    "        } else {\n",
    "            console.error(\"Failed to retrieve data.\");\n",
    "        }\n",
    "    } catch (error) {\n",
    "        console.error(\"Error fetching data:\", error);\n",
    "    }\n",
    "}\n",
    "\n",
    "fetchAndModifyData();\n"
   ]
  }
 ],
 "metadata": {
  "language_info": {
   "name": "python"
  }
 },
 "nbformat": 4,
 "nbformat_minor": 5
}
