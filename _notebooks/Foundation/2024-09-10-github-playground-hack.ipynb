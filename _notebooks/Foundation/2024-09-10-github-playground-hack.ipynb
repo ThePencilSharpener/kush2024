{
 "cells": [
  {
   "cell_type": "raw",
   "metadata": {
    "vscode": {
     "languageId": "raw"
    }
   },
   "source": [
    "---\n",
    "layout: post\n",
    "title: Attempted v Did\n",
    "description:  How I got to the point I am today\n",
    "type: issues \n",
    "comments: true\n",
    "---"
   ]
  },
  {
   "cell_type": "markdown",
   "metadata": {
    "vscode": {
     "languageId": "raw"
    }
   },
   "source": [
    "# Hello, my name is Kush Kharia and here is how I got to the place I am today.\n",
    "First I got all the tools necessary and created my github account where I put the repository given to us under a new name.\n",
    "Then I synced that repository with Ubuntu and VScode so that I could start working on my wbesite.\n",
    "After that I started editing my website through VScode. I made a My Journey page along with updating the About Me.\n",
    "The last step was to finish the hacks given to us through slack\n"
   ]
  },
  {
   "cell_type": "code",
   "execution_count": null,
   "metadata": {
    "vscode": {
     "languageId": "html"
    }
   },
   "outputs": [],
   "source": [
    "remote_theme: pages-themes/dinky@v0.2.0"
   ]
  }
 ],
 "metadata": {
  "kernelspec": {
   "display_name": "Python 3 (ipykernel)",
   "language": "python",
   "name": "python3"
  },
  "language_info": {
   "codemirror_mode": {
    "name": "ipython",
    "version": 3
   },
   "file_extension": ".py",
   "mimetype": "text/x-python",
   "name": "python",
   "nbconvert_exporter": "python",
   "pygments_lexer": "ipython3",
   "version": "3.10.12"
  }
 },
 "nbformat": 4,
 "nbformat_minor": 2
}
