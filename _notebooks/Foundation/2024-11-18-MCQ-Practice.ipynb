{
 "cells": [
  {
   "cell_type": "raw",
   "id": "c45e6dd2",
   "metadata": {
    "vscode": {
     "languageId": "raw"
    }
   },
   "source": [
    "---\n",
    "layout: post\n",
    "title: MCQ College Board\n",
    "description: MCQ college board\n",
    "type: issues \n",
    "comments: true\n",
    "---"
   ]
  },
  {
   "cell_type": "markdown",
   "id": "bf30e757",
   "metadata": {},
   "source": [
    "<p>A: What I learned from this quiz is how to read psuedocode properly and understand the different symbols within it. I also learned a lot about logic gates and how they can be used to simply represent an idea or code.</p>\n",
    "<p>B: I am weak in understanding and remembering the vocab terms presented to us.</p>\n",
    "<p> Q65: Answer is B and D</p>\n",
    "<p>Explanation: Answer is B and D because Y is negative in those options so count will never be able to reach a negative number if we are adding 1 each time to count. So these options are the ony conditions where the procedure will not return the correct product.</p>\n",
    "<p> Q64: Answer is B and C</p>\n",
    "<p>Explanation: Cloud Computing is where information can be delivered over the internet and some features is that it has help to enhance collaboration but it also has data-security concenrns.</p>\n",
    "<p> Q63: Answer is Line 4 and Line 9</p>\n",
    "<p>Expalnation: The psuedocode is setting count=0 each time it runs a loop and that is resetting the count. This is why line 4 is to be removed. Line 9 is removed because it makes it so count is increased for all entires not just prime entries.</p>\n",
    "<p> Q58: Answer is A</p>\n",
    "<p>Explanation: Option A is correct because crowdsourcing does not allow for all computational problems to be solved in reasonable time, it allows for participants to access useful tools, and it can lower geographic barriers.</p>\n",
    "<p> Q48: Answer is D</p>\n",
    "<p>Explanation: The answer is D because it is the only one saying for any value under 75 making sure it is 75% unlike everyone else.</p>\n",
    "<p> Q43: Answer is A</p>\n",
    "<p>Explanation: The algoritihm runs in reasonable time because the number of steps is a polynomial.</p>\n",
    "<p> Q42: Answer is D</p>\n",
    "<p>Explanation: With 32-bit addressing there are 2^32 possible addresses. So with 128-bit addressing there has to be 2^96 times as many possible addresses.</p>\n",
    "<p> Q37: Answer is C</p>\n",
    "<p>Explanation: Both code segments display the correct average but code segment 1 has more arithmetic operations within the loop instead of collecting the data and doing it outside the loop.</p>\n",
    "<p> Q17: Answer is D</p>\n",
    "<p>Explanation: Giving free education on how to use new technology, providing free or low-cost tech, and providing networks and infrastructure would all help to reduce the digital divid eof the world.</p>\n",
    "<p> Q14: Answer is D</p>\n",
    "<p>Program A and B both display the same number of values but have different values because the second program starts at 2 instead of 1.</p>"
   ]
  }
 ],
 "metadata": {
  "kernelspec": {
   "display_name": "Python 3 (ipykernel)",
   "language": "python",
   "name": "python3"
  },
  "language_info": {
   "codemirror_mode": {
    "name": "ipython",
    "version": 3
   },
   "file_extension": ".py",
   "mimetype": "text/x-python",
   "name": "python",
   "nbconvert_exporter": "python",
   "pygments_lexer": "ipython3",
   "version": "3.10.12"
  }
 },
 "nbformat": 4,
 "nbformat_minor": 5
}
